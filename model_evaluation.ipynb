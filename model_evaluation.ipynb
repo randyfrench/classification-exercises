{
 "cells": [
  {
   "cell_type": "markdown",
   "id": "ce8382c8",
   "metadata": {},
   "source": [
    "## Given the following confusion matrix, evaluate (by hand) the model's performance.\n",
    "\n",
    "\n",
    "|               | pred dog   | pred cat   |\n",
    "|:------------  |-----------:|-----------:|\n",
    "| actual dog    |         46 |         7  |\n",
    "| actual cat    |         13 |         34 |"
   ]
  },
  {
   "cell_type": "code",
   "execution_count": 1,
   "id": "dc3288ae",
   "metadata": {},
   "outputs": [
    {
     "data": {
      "text/plain": [
       "6.571428571428571"
      ]
     },
     "execution_count": 1,
     "metadata": {},
     "output_type": "execute_result"
    }
   ],
   "source": [
    "# In the context of this problem, what is a false positive?\n",
    "# In the context of this problem, what is a false negative?\n",
    "# How would you describe this model?\n",
    "\n",
    "# TP: predict a dog and a cat and actual is a dog or a cat\n",
    "# TN: predict not a dog or cat and it was not a dog or a cat\n",
    "# FP: predicted a dog and it was a cat, predicted a cat and it was a dog\n",
    "# FN: \n",
    "46/7\n",
    "\n"
   ]
  },
  {
   "cell_type": "code",
   "execution_count": 3,
   "id": "cbe62823",
   "metadata": {},
   "outputs": [
    {
     "data": {
      "text/plain": [
       "2.6153846153846154"
      ]
     },
     "execution_count": 3,
     "metadata": {},
     "output_type": "execute_result"
    }
   ],
   "source": [
    "34/13"
   ]
  },
  {
   "cell_type": "code",
   "execution_count": null,
   "id": "1721fe00",
   "metadata": {},
   "outputs": [],
   "source": [
    "# In the context of this problem, what is a false positive?\n",
    "# predicted a dog and it was acctually a cat and you predicted a cat and it was acctually a dog"
   ]
  },
  {
   "cell_type": "code",
   "execution_count": null,
   "id": "98bd1065",
   "metadata": {},
   "outputs": [],
   "source": [
    "# In the context of this problem, what is a false negative?\n",
    "# no false negitive"
   ]
  },
  {
   "cell_type": "code",
   "execution_count": null,
   "id": "e9eee279",
   "metadata": {},
   "outputs": [],
   "source": [
    "# How would you describe this model?\n"
   ]
  },
  {
   "cell_type": "code",
   "execution_count": null,
   "id": "a7362316",
   "metadata": {},
   "outputs": [],
   "source": []
  }
 ],
 "metadata": {
  "kernelspec": {
   "display_name": "Python 3.8.8 64-bit ('base': conda)",
   "language": "python",
   "name": "python388jvsc74a57bd0b64057e63add2b45b1ffc7eab9b09c8889b419c878e2fdf0d08f837f0fc857a7"
  },
  "language_info": {
   "codemirror_mode": {
    "name": "ipython",
    "version": 3
   },
   "file_extension": ".py",
   "mimetype": "text/x-python",
   "name": "python",
   "nbconvert_exporter": "python",
   "pygments_lexer": "ipython3",
   "version": "3.8.8"
  }
 },
 "nbformat": 4,
 "nbformat_minor": 5
}
