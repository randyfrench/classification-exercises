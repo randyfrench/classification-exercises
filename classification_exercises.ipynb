{
 "cells": [
  {
   "cell_type": "code",
   "execution_count": 1,
   "id": "a83f67a3",
   "metadata": {},
   "outputs": [],
   "source": [
    "import pandas as pd\n",
    "import numpy as np\n",
    "import os\n",
    "\n",
    "import matplotlib.pyplot as plt\n",
    "import seaborn as sns\n",
    "\n",
    "from pydataset import data"
   ]
  },
  {
   "cell_type": "markdown",
   "id": "72e01d01",
   "metadata": {},
   "source": [
    "# 1. In a jupyter notebook, classification_exercises.ipynb, use a python module (pydata or seaborn datasets) containing datasets as a source from the iris data. Create a pandas dataframe, df_iris, from this data."
   ]
  },
  {
   "cell_type": "code",
   "execution_count": 2,
   "id": "e7e41a99",
   "metadata": {},
   "outputs": [],
   "source": [
    "\n",
    "# Exercise 1\n",
    "iris = data(\"iris\")\n"
   ]
  },
  {
   "cell_type": "code",
   "execution_count": 3,
   "id": "7f0c7875",
   "metadata": {},
   "outputs": [
    {
     "data": {
      "text/html": [
       "<div>\n",
       "<style scoped>\n",
       "    .dataframe tbody tr th:only-of-type {\n",
       "        vertical-align: middle;\n",
       "    }\n",
       "\n",
       "    .dataframe tbody tr th {\n",
       "        vertical-align: top;\n",
       "    }\n",
       "\n",
       "    .dataframe thead th {\n",
       "        text-align: right;\n",
       "    }\n",
       "</style>\n",
       "<table border=\"1\" class=\"dataframe\">\n",
       "  <thead>\n",
       "    <tr style=\"text-align: right;\">\n",
       "      <th></th>\n",
       "      <th>Sepal.Length</th>\n",
       "      <th>Sepal.Width</th>\n",
       "      <th>Petal.Length</th>\n",
       "      <th>Petal.Width</th>\n",
       "      <th>Species</th>\n",
       "    </tr>\n",
       "  </thead>\n",
       "  <tbody>\n",
       "    <tr>\n",
       "      <th>1</th>\n",
       "      <td>5.1</td>\n",
       "      <td>3.5</td>\n",
       "      <td>1.4</td>\n",
       "      <td>0.2</td>\n",
       "      <td>setosa</td>\n",
       "    </tr>\n",
       "    <tr>\n",
       "      <th>2</th>\n",
       "      <td>4.9</td>\n",
       "      <td>3.0</td>\n",
       "      <td>1.4</td>\n",
       "      <td>0.2</td>\n",
       "      <td>setosa</td>\n",
       "    </tr>\n",
       "    <tr>\n",
       "      <th>3</th>\n",
       "      <td>4.7</td>\n",
       "      <td>3.2</td>\n",
       "      <td>1.3</td>\n",
       "      <td>0.2</td>\n",
       "      <td>setosa</td>\n",
       "    </tr>\n",
       "  </tbody>\n",
       "</table>\n",
       "</div>"
      ],
      "text/plain": [
       "   Sepal.Length  Sepal.Width  Petal.Length  Petal.Width Species\n",
       "1           5.1          3.5           1.4          0.2  setosa\n",
       "2           4.9          3.0           1.4          0.2  setosa\n",
       "3           4.7          3.2           1.3          0.2  setosa"
      ]
     },
     "execution_count": 3,
     "metadata": {},
     "output_type": "execute_result"
    }
   ],
   "source": [
    "# 1a. print the first 3 rows\n",
    "iris.head(3)"
   ]
  },
  {
   "cell_type": "code",
   "execution_count": 4,
   "id": "372f266d",
   "metadata": {},
   "outputs": [
    {
     "data": {
      "text/plain": [
       "(150, 5)"
      ]
     },
     "execution_count": 4,
     "metadata": {},
     "output_type": "execute_result"
    }
   ],
   "source": [
    "# 1b. print the number of rows and columns (shape)\n",
    "iris.shape"
   ]
  },
  {
   "cell_type": "code",
   "execution_count": 5,
   "id": "8be4514e",
   "metadata": {},
   "outputs": [
    {
     "data": {
      "text/plain": [
       "Index(['Sepal.Length', 'Sepal.Width', 'Petal.Length', 'Petal.Width',\n",
       "       'Species'],\n",
       "      dtype='object')"
      ]
     },
     "execution_count": 5,
     "metadata": {},
     "output_type": "execute_result"
    }
   ],
   "source": [
    "# 1c. print the column names\n",
    "iris.columns"
   ]
  },
  {
   "cell_type": "code",
   "execution_count": 6,
   "id": "6a2fc232",
   "metadata": {},
   "outputs": [
    {
     "data": {
      "text/plain": [
       "Sepal.Length    float64\n",
       "Sepal.Width     float64\n",
       "Petal.Length    float64\n",
       "Petal.Width     float64\n",
       "Species          object\n",
       "dtype: object"
      ]
     },
     "execution_count": 6,
     "metadata": {},
     "output_type": "execute_result"
    }
   ],
   "source": [
    "# 1d. print the data type of each column\n",
    "iris.dtypes"
   ]
  },
  {
   "cell_type": "code",
   "execution_count": 7,
   "id": "d7de6b63",
   "metadata": {},
   "outputs": [
    {
     "data": {
      "text/html": [
       "<div>\n",
       "<style scoped>\n",
       "    .dataframe tbody tr th:only-of-type {\n",
       "        vertical-align: middle;\n",
       "    }\n",
       "\n",
       "    .dataframe tbody tr th {\n",
       "        vertical-align: top;\n",
       "    }\n",
       "\n",
       "    .dataframe thead th {\n",
       "        text-align: right;\n",
       "    }\n",
       "</style>\n",
       "<table border=\"1\" class=\"dataframe\">\n",
       "  <thead>\n",
       "    <tr style=\"text-align: right;\">\n",
       "      <th></th>\n",
       "      <th>count</th>\n",
       "      <th>mean</th>\n",
       "      <th>std</th>\n",
       "      <th>min</th>\n",
       "      <th>25%</th>\n",
       "      <th>50%</th>\n",
       "      <th>75%</th>\n",
       "      <th>max</th>\n",
       "    </tr>\n",
       "  </thead>\n",
       "  <tbody>\n",
       "    <tr>\n",
       "      <th>Sepal.Length</th>\n",
       "      <td>150.0</td>\n",
       "      <td>5.843333</td>\n",
       "      <td>0.828066</td>\n",
       "      <td>4.3</td>\n",
       "      <td>5.1</td>\n",
       "      <td>5.80</td>\n",
       "      <td>6.4</td>\n",
       "      <td>7.9</td>\n",
       "    </tr>\n",
       "    <tr>\n",
       "      <th>Sepal.Width</th>\n",
       "      <td>150.0</td>\n",
       "      <td>3.057333</td>\n",
       "      <td>0.435866</td>\n",
       "      <td>2.0</td>\n",
       "      <td>2.8</td>\n",
       "      <td>3.00</td>\n",
       "      <td>3.3</td>\n",
       "      <td>4.4</td>\n",
       "    </tr>\n",
       "    <tr>\n",
       "      <th>Petal.Length</th>\n",
       "      <td>150.0</td>\n",
       "      <td>3.758000</td>\n",
       "      <td>1.765298</td>\n",
       "      <td>1.0</td>\n",
       "      <td>1.6</td>\n",
       "      <td>4.35</td>\n",
       "      <td>5.1</td>\n",
       "      <td>6.9</td>\n",
       "    </tr>\n",
       "    <tr>\n",
       "      <th>Petal.Width</th>\n",
       "      <td>150.0</td>\n",
       "      <td>1.199333</td>\n",
       "      <td>0.762238</td>\n",
       "      <td>0.1</td>\n",
       "      <td>0.3</td>\n",
       "      <td>1.30</td>\n",
       "      <td>1.8</td>\n",
       "      <td>2.5</td>\n",
       "    </tr>\n",
       "  </tbody>\n",
       "</table>\n",
       "</div>"
      ],
      "text/plain": [
       "              count      mean       std  min  25%   50%  75%  max\n",
       "Sepal.Length  150.0  5.843333  0.828066  4.3  5.1  5.80  6.4  7.9\n",
       "Sepal.Width   150.0  3.057333  0.435866  2.0  2.8  3.00  3.3  4.4\n",
       "Petal.Length  150.0  3.758000  1.765298  1.0  1.6  4.35  5.1  6.9\n",
       "Petal.Width   150.0  1.199333  0.762238  0.1  0.3  1.30  1.8  2.5"
      ]
     },
     "execution_count": 7,
     "metadata": {},
     "output_type": "execute_result"
    }
   ],
   "source": [
    "# 1e. print the summary statistics for each of the numeric variables. Would you recommend rescaling the data based \n",
    "# on these statistics? Not sure!\n",
    "\n",
    "iris.describe().T"
   ]
  },
  {
   "cell_type": "markdown",
   "id": "dc415012",
   "metadata": {},
   "source": [
    "# 2. Read the Table1_CustDetails table from the Excel_Exercises.xlsx file into a dataframe named df_excel."
   ]
  },
  {
   "cell_type": "code",
   "execution_count": 8,
   "id": "532cb89a",
   "metadata": {},
   "outputs": [],
   "source": [
    "telco = pd.read_excel(\"Spreadsheets_Exercises.xlsx\")"
   ]
  },
  {
   "cell_type": "code",
   "execution_count": 9,
   "id": "83f4d45e",
   "metadata": {},
   "outputs": [
    {
     "data": {
      "text/html": [
       "<div>\n",
       "<style scoped>\n",
       "    .dataframe tbody tr th:only-of-type {\n",
       "        vertical-align: middle;\n",
       "    }\n",
       "\n",
       "    .dataframe tbody tr th {\n",
       "        vertical-align: top;\n",
       "    }\n",
       "\n",
       "    .dataframe thead th {\n",
       "        text-align: right;\n",
       "    }\n",
       "</style>\n",
       "<table border=\"1\" class=\"dataframe\">\n",
       "  <thead>\n",
       "    <tr style=\"text-align: right;\">\n",
       "      <th></th>\n",
       "      <th>customer_id</th>\n",
       "      <th>gender</th>\n",
       "      <th>is_senior_citizen</th>\n",
       "      <th>partner</th>\n",
       "      <th>dependents</th>\n",
       "      <th>phone_service</th>\n",
       "      <th>internet_service</th>\n",
       "      <th>contract_type</th>\n",
       "      <th>payment_type</th>\n",
       "      <th>monthly_charges</th>\n",
       "      <th>...</th>\n",
       "      <th>dependents_no_partners</th>\n",
       "      <th>yes_dependents_and_partners</th>\n",
       "      <th>Unnamed: 23</th>\n",
       "      <th>start_date</th>\n",
       "      <th>average_monthly_charges</th>\n",
       "      <th>validate_monthly_charges</th>\n",
       "      <th>contract_type_desc</th>\n",
       "      <th>phone_type_desc</th>\n",
       "      <th>internet_type_desc</th>\n",
       "      <th>Unnamed: 30</th>\n",
       "    </tr>\n",
       "  </thead>\n",
       "  <tbody>\n",
       "    <tr>\n",
       "      <th>0</th>\n",
       "      <td>1371-DWPAZ</td>\n",
       "      <td>Female</td>\n",
       "      <td>0</td>\n",
       "      <td>Yes</td>\n",
       "      <td>Yes</td>\n",
       "      <td>0</td>\n",
       "      <td>1</td>\n",
       "      <td>2</td>\n",
       "      <td>Credit card (automatic)</td>\n",
       "      <td>56.05</td>\n",
       "      <td>...</td>\n",
       "      <td>0.0</td>\n",
       "      <td>1.0</td>\n",
       "      <td>3.0</td>\n",
       "      <td>2021-08-16</td>\n",
       "      <td>0.0</td>\n",
       "      <td>False</td>\n",
       "      <td>2 Year</td>\n",
       "      <td>No Phone Service</td>\n",
       "      <td>DSL</td>\n",
       "      <td>NaN</td>\n",
       "    </tr>\n",
       "    <tr>\n",
       "      <th>1</th>\n",
       "      <td>2520-SGTTA</td>\n",
       "      <td>Female</td>\n",
       "      <td>0</td>\n",
       "      <td>Yes</td>\n",
       "      <td>Yes</td>\n",
       "      <td>1</td>\n",
       "      <td>0</td>\n",
       "      <td>2</td>\n",
       "      <td>Mailed check</td>\n",
       "      <td>20.00</td>\n",
       "      <td>...</td>\n",
       "      <td>NaN</td>\n",
       "      <td>NaN</td>\n",
       "      <td>NaN</td>\n",
       "      <td>2021-08-16</td>\n",
       "      <td>0.0</td>\n",
       "      <td>False</td>\n",
       "      <td>2 Year</td>\n",
       "      <td>One Line</td>\n",
       "      <td>No Internet Service</td>\n",
       "      <td>NaN</td>\n",
       "    </tr>\n",
       "    <tr>\n",
       "      <th>2</th>\n",
       "      <td>2775-SEFEE</td>\n",
       "      <td>Male</td>\n",
       "      <td>0</td>\n",
       "      <td>No</td>\n",
       "      <td>Yes</td>\n",
       "      <td>2</td>\n",
       "      <td>1</td>\n",
       "      <td>2</td>\n",
       "      <td>Bank transfer (automatic)</td>\n",
       "      <td>61.90</td>\n",
       "      <td>...</td>\n",
       "      <td>NaN</td>\n",
       "      <td>NaN</td>\n",
       "      <td>NaN</td>\n",
       "      <td>2021-08-16</td>\n",
       "      <td>0.0</td>\n",
       "      <td>False</td>\n",
       "      <td>2 Year</td>\n",
       "      <td>Two or More Lines</td>\n",
       "      <td>DSL</td>\n",
       "      <td>NaN</td>\n",
       "    </tr>\n",
       "    <tr>\n",
       "      <th>3</th>\n",
       "      <td>2923-ARZLG</td>\n",
       "      <td>Male</td>\n",
       "      <td>0</td>\n",
       "      <td>Yes</td>\n",
       "      <td>Yes</td>\n",
       "      <td>1</td>\n",
       "      <td>0</td>\n",
       "      <td>1</td>\n",
       "      <td>Mailed check</td>\n",
       "      <td>19.70</td>\n",
       "      <td>...</td>\n",
       "      <td>NaN</td>\n",
       "      <td>NaN</td>\n",
       "      <td>NaN</td>\n",
       "      <td>2021-08-16</td>\n",
       "      <td>0.0</td>\n",
       "      <td>False</td>\n",
       "      <td>1 Year</td>\n",
       "      <td>One Line</td>\n",
       "      <td>No Internet Service</td>\n",
       "      <td>NaN</td>\n",
       "    </tr>\n",
       "    <tr>\n",
       "      <th>4</th>\n",
       "      <td>3115-CZMZD</td>\n",
       "      <td>Male</td>\n",
       "      <td>0</td>\n",
       "      <td>No</td>\n",
       "      <td>Yes</td>\n",
       "      <td>1</td>\n",
       "      <td>0</td>\n",
       "      <td>2</td>\n",
       "      <td>Mailed check</td>\n",
       "      <td>20.25</td>\n",
       "      <td>...</td>\n",
       "      <td>NaN</td>\n",
       "      <td>NaN</td>\n",
       "      <td>NaN</td>\n",
       "      <td>2021-08-16</td>\n",
       "      <td>0.0</td>\n",
       "      <td>False</td>\n",
       "      <td>2 Year</td>\n",
       "      <td>One Line</td>\n",
       "      <td>No Internet Service</td>\n",
       "      <td>NaN</td>\n",
       "    </tr>\n",
       "  </tbody>\n",
       "</table>\n",
       "<p>5 rows × 31 columns</p>\n",
       "</div>"
      ],
      "text/plain": [
       "  customer_id  gender  is_senior_citizen partner dependents  phone_service  \\\n",
       "0  1371-DWPAZ  Female                  0     Yes        Yes              0   \n",
       "1  2520-SGTTA  Female                  0     Yes        Yes              1   \n",
       "2  2775-SEFEE    Male                  0      No        Yes              2   \n",
       "3  2923-ARZLG    Male                  0     Yes        Yes              1   \n",
       "4  3115-CZMZD    Male                  0      No        Yes              1   \n",
       "\n",
       "   internet_service  contract_type               payment_type  \\\n",
       "0                 1              2    Credit card (automatic)   \n",
       "1                 0              2               Mailed check   \n",
       "2                 1              2  Bank transfer (automatic)   \n",
       "3                 0              1               Mailed check   \n",
       "4                 0              2               Mailed check   \n",
       "\n",
       "   monthly_charges  ...  dependents_no_partners yes_dependents_and_partners  \\\n",
       "0            56.05  ...                     0.0                         1.0   \n",
       "1            20.00  ...                     NaN                         NaN   \n",
       "2            61.90  ...                     NaN                         NaN   \n",
       "3            19.70  ...                     NaN                         NaN   \n",
       "4            20.25  ...                     NaN                         NaN   \n",
       "\n",
       "   Unnamed: 23  start_date  average_monthly_charges  validate_monthly_charges  \\\n",
       "0          3.0  2021-08-16                      0.0                     False   \n",
       "1          NaN  2021-08-16                      0.0                     False   \n",
       "2          NaN  2021-08-16                      0.0                     False   \n",
       "3          NaN  2021-08-16                      0.0                     False   \n",
       "4          NaN  2021-08-16                      0.0                     False   \n",
       "\n",
       "   contract_type_desc    phone_type_desc   internet_type_desc  Unnamed: 30  \n",
       "0              2 Year   No Phone Service                  DSL          NaN  \n",
       "1              2 Year           One Line  No Internet Service          NaN  \n",
       "2              2 Year  Two or More Lines                  DSL          NaN  \n",
       "3              1 Year           One Line  No Internet Service          NaN  \n",
       "4              2 Year           One Line  No Internet Service          NaN  \n",
       "\n",
       "[5 rows x 31 columns]"
      ]
     },
     "execution_count": 9,
     "metadata": {},
     "output_type": "execute_result"
    }
   ],
   "source": [
    "telco.head()"
   ]
  },
  {
   "cell_type": "code",
   "execution_count": 10,
   "id": "f6f53c26",
   "metadata": {},
   "outputs": [],
   "source": [
    "# Setup Yes/No as booleans\n",
    "partner = telco.partner == \"Yes\"\n",
    "dependents = telco.dependents == \"Yes\"\n",
    "churn = telco.churn == \"Yes\"\n",
    "is_senior_citizen = telco.is_senior_citizen == 1"
   ]
  },
  {
   "cell_type": "code",
   "execution_count": 11,
   "id": "407e2587",
   "metadata": {},
   "outputs": [],
   "source": [
    "# map phone_service, internet_service, and contract_type\n",
    "contract_type = {\n",
    "    0: \"Month-to-Month\",\n",
    "    1: \"1 Year\",\n",
    "    2: \"2 Year\"\n",
    "}\n",
    "\n",
    "phone_service = {\n",
    "    0: \"No Phone Service\",\n",
    "    1: \"One line\",\n",
    "    2: \"Two or more lines\"\n",
    "}\n",
    "\n",
    "internet_service = {\n",
    "    0: \"No Internet Service\",\n",
    "    1: \"DSL\",\n",
    "    2: \"Fiber Optic\"\n",
    "}\n",
    "\n",
    "telco.contract_type = telco.contract_type.map(contract_type)\n",
    "telco.phone_service = telco.phone_service.map(phone_service)\n",
    "telco.internet_service = telco.internet_service.map(internet_service)"
   ]
  },
  {
   "cell_type": "code",
   "execution_count": 12,
   "id": "ed6c307d",
   "metadata": {},
   "outputs": [
    {
     "data": {
      "text/html": [
       "<div>\n",
       "<style scoped>\n",
       "    .dataframe tbody tr th:only-of-type {\n",
       "        vertical-align: middle;\n",
       "    }\n",
       "\n",
       "    .dataframe tbody tr th {\n",
       "        vertical-align: top;\n",
       "    }\n",
       "\n",
       "    .dataframe thead th {\n",
       "        text-align: right;\n",
       "    }\n",
       "</style>\n",
       "<table border=\"1\" class=\"dataframe\">\n",
       "  <thead>\n",
       "    <tr style=\"text-align: right;\">\n",
       "      <th></th>\n",
       "      <th>customer_id</th>\n",
       "      <th>gender</th>\n",
       "      <th>is_senior_citizen</th>\n",
       "      <th>partner</th>\n",
       "      <th>dependents</th>\n",
       "      <th>phone_service</th>\n",
       "      <th>internet_service</th>\n",
       "      <th>contract_type</th>\n",
       "      <th>payment_type</th>\n",
       "      <th>monthly_charges</th>\n",
       "      <th>...</th>\n",
       "      <th>dependents_no_partners</th>\n",
       "      <th>yes_dependents_and_partners</th>\n",
       "      <th>Unnamed: 23</th>\n",
       "      <th>start_date</th>\n",
       "      <th>average_monthly_charges</th>\n",
       "      <th>validate_monthly_charges</th>\n",
       "      <th>contract_type_desc</th>\n",
       "      <th>phone_type_desc</th>\n",
       "      <th>internet_type_desc</th>\n",
       "      <th>Unnamed: 30</th>\n",
       "    </tr>\n",
       "  </thead>\n",
       "  <tbody>\n",
       "    <tr>\n",
       "      <th>0</th>\n",
       "      <td>1371-DWPAZ</td>\n",
       "      <td>Female</td>\n",
       "      <td>0</td>\n",
       "      <td>Yes</td>\n",
       "      <td>Yes</td>\n",
       "      <td>No Phone Service</td>\n",
       "      <td>DSL</td>\n",
       "      <td>2 Year</td>\n",
       "      <td>Credit card (automatic)</td>\n",
       "      <td>56.05</td>\n",
       "      <td>...</td>\n",
       "      <td>0.0</td>\n",
       "      <td>1.0</td>\n",
       "      <td>3.0</td>\n",
       "      <td>2021-08-16</td>\n",
       "      <td>0.0</td>\n",
       "      <td>False</td>\n",
       "      <td>2 Year</td>\n",
       "      <td>No Phone Service</td>\n",
       "      <td>DSL</td>\n",
       "      <td>NaN</td>\n",
       "    </tr>\n",
       "    <tr>\n",
       "      <th>1</th>\n",
       "      <td>2520-SGTTA</td>\n",
       "      <td>Female</td>\n",
       "      <td>0</td>\n",
       "      <td>Yes</td>\n",
       "      <td>Yes</td>\n",
       "      <td>One line</td>\n",
       "      <td>No Internet Service</td>\n",
       "      <td>2 Year</td>\n",
       "      <td>Mailed check</td>\n",
       "      <td>20.00</td>\n",
       "      <td>...</td>\n",
       "      <td>NaN</td>\n",
       "      <td>NaN</td>\n",
       "      <td>NaN</td>\n",
       "      <td>2021-08-16</td>\n",
       "      <td>0.0</td>\n",
       "      <td>False</td>\n",
       "      <td>2 Year</td>\n",
       "      <td>One Line</td>\n",
       "      <td>No Internet Service</td>\n",
       "      <td>NaN</td>\n",
       "    </tr>\n",
       "    <tr>\n",
       "      <th>2</th>\n",
       "      <td>2775-SEFEE</td>\n",
       "      <td>Male</td>\n",
       "      <td>0</td>\n",
       "      <td>No</td>\n",
       "      <td>Yes</td>\n",
       "      <td>Two or more lines</td>\n",
       "      <td>DSL</td>\n",
       "      <td>2 Year</td>\n",
       "      <td>Bank transfer (automatic)</td>\n",
       "      <td>61.90</td>\n",
       "      <td>...</td>\n",
       "      <td>NaN</td>\n",
       "      <td>NaN</td>\n",
       "      <td>NaN</td>\n",
       "      <td>2021-08-16</td>\n",
       "      <td>0.0</td>\n",
       "      <td>False</td>\n",
       "      <td>2 Year</td>\n",
       "      <td>Two or More Lines</td>\n",
       "      <td>DSL</td>\n",
       "      <td>NaN</td>\n",
       "    </tr>\n",
       "    <tr>\n",
       "      <th>3</th>\n",
       "      <td>2923-ARZLG</td>\n",
       "      <td>Male</td>\n",
       "      <td>0</td>\n",
       "      <td>Yes</td>\n",
       "      <td>Yes</td>\n",
       "      <td>One line</td>\n",
       "      <td>No Internet Service</td>\n",
       "      <td>1 Year</td>\n",
       "      <td>Mailed check</td>\n",
       "      <td>19.70</td>\n",
       "      <td>...</td>\n",
       "      <td>NaN</td>\n",
       "      <td>NaN</td>\n",
       "      <td>NaN</td>\n",
       "      <td>2021-08-16</td>\n",
       "      <td>0.0</td>\n",
       "      <td>False</td>\n",
       "      <td>1 Year</td>\n",
       "      <td>One Line</td>\n",
       "      <td>No Internet Service</td>\n",
       "      <td>NaN</td>\n",
       "    </tr>\n",
       "    <tr>\n",
       "      <th>4</th>\n",
       "      <td>3115-CZMZD</td>\n",
       "      <td>Male</td>\n",
       "      <td>0</td>\n",
       "      <td>No</td>\n",
       "      <td>Yes</td>\n",
       "      <td>One line</td>\n",
       "      <td>No Internet Service</td>\n",
       "      <td>2 Year</td>\n",
       "      <td>Mailed check</td>\n",
       "      <td>20.25</td>\n",
       "      <td>...</td>\n",
       "      <td>NaN</td>\n",
       "      <td>NaN</td>\n",
       "      <td>NaN</td>\n",
       "      <td>2021-08-16</td>\n",
       "      <td>0.0</td>\n",
       "      <td>False</td>\n",
       "      <td>2 Year</td>\n",
       "      <td>One Line</td>\n",
       "      <td>No Internet Service</td>\n",
       "      <td>NaN</td>\n",
       "    </tr>\n",
       "  </tbody>\n",
       "</table>\n",
       "<p>5 rows × 31 columns</p>\n",
       "</div>"
      ],
      "text/plain": [
       "  customer_id  gender  is_senior_citizen partner dependents  \\\n",
       "0  1371-DWPAZ  Female                  0     Yes        Yes   \n",
       "1  2520-SGTTA  Female                  0     Yes        Yes   \n",
       "2  2775-SEFEE    Male                  0      No        Yes   \n",
       "3  2923-ARZLG    Male                  0     Yes        Yes   \n",
       "4  3115-CZMZD    Male                  0      No        Yes   \n",
       "\n",
       "       phone_service     internet_service contract_type  \\\n",
       "0   No Phone Service                  DSL        2 Year   \n",
       "1           One line  No Internet Service        2 Year   \n",
       "2  Two or more lines                  DSL        2 Year   \n",
       "3           One line  No Internet Service        1 Year   \n",
       "4           One line  No Internet Service        2 Year   \n",
       "\n",
       "                payment_type  monthly_charges  ...  dependents_no_partners  \\\n",
       "0    Credit card (automatic)            56.05  ...                     0.0   \n",
       "1               Mailed check            20.00  ...                     NaN   \n",
       "2  Bank transfer (automatic)            61.90  ...                     NaN   \n",
       "3               Mailed check            19.70  ...                     NaN   \n",
       "4               Mailed check            20.25  ...                     NaN   \n",
       "\n",
       "  yes_dependents_and_partners  Unnamed: 23  start_date  \\\n",
       "0                         1.0          3.0  2021-08-16   \n",
       "1                         NaN          NaN  2021-08-16   \n",
       "2                         NaN          NaN  2021-08-16   \n",
       "3                         NaN          NaN  2021-08-16   \n",
       "4                         NaN          NaN  2021-08-16   \n",
       "\n",
       "   average_monthly_charges  validate_monthly_charges  contract_type_desc  \\\n",
       "0                      0.0                     False              2 Year   \n",
       "1                      0.0                     False              2 Year   \n",
       "2                      0.0                     False              2 Year   \n",
       "3                      0.0                     False              1 Year   \n",
       "4                      0.0                     False              2 Year   \n",
       "\n",
       "     phone_type_desc   internet_type_desc  Unnamed: 30  \n",
       "0   No Phone Service                  DSL          NaN  \n",
       "1           One Line  No Internet Service          NaN  \n",
       "2  Two or More Lines                  DSL          NaN  \n",
       "3           One Line  No Internet Service          NaN  \n",
       "4           One Line  No Internet Service          NaN  \n",
       "\n",
       "[5 rows x 31 columns]"
      ]
     },
     "execution_count": 12,
     "metadata": {},
     "output_type": "execute_result"
    }
   ],
   "source": [
    "telco.head()"
   ]
  },
  {
   "cell_type": "code",
   "execution_count": 13,
   "id": "89078e22",
   "metadata": {},
   "outputs": [
    {
     "data": {
      "text/plain": [
       "{'a': 23, 'b': 2}"
      ]
     },
     "execution_count": 13,
     "metadata": {},
     "output_type": "execute_result"
    }
   ],
   "source": [
    "a = {\"a\": 1, \"b\": 2}\n",
    "b = a\n",
    "a[\"a\"] = 23\n",
    "b"
   ]
  },
  {
   "cell_type": "code",
   "execution_count": 14,
   "id": "05527cd4",
   "metadata": {},
   "outputs": [
    {
     "data": {
      "text/plain": [
       "[500, 2, 3]"
      ]
     },
     "execution_count": 14,
     "metadata": {},
     "output_type": "execute_result"
    }
   ],
   "source": [
    "a = [1, 2, 3]\n",
    "b = a\n",
    "b[0] = 500\n",
    "a"
   ]
  },
  {
   "cell_type": "code",
   "execution_count": 15,
   "id": "626cd3f7",
   "metadata": {},
   "outputs": [
    {
     "data": {
      "text/plain": [
       "array([450,   2,   3])"
      ]
     },
     "execution_count": 15,
     "metadata": {},
     "output_type": "execute_result"
    }
   ],
   "source": [
    "a = np.array([1, 2, 3])\n",
    "b = a\n",
    "b[0] = 450\n",
    "a"
   ]
  },
  {
   "cell_type": "code",
   "execution_count": 16,
   "id": "9ffe905d",
   "metadata": {},
   "outputs": [
    {
     "data": {
      "text/html": [
       "<div>\n",
       "<style scoped>\n",
       "    .dataframe tbody tr th:only-of-type {\n",
       "        vertical-align: middle;\n",
       "    }\n",
       "\n",
       "    .dataframe tbody tr th {\n",
       "        vertical-align: top;\n",
       "    }\n",
       "\n",
       "    .dataframe thead th {\n",
       "        text-align: right;\n",
       "    }\n",
       "</style>\n",
       "<table border=\"1\" class=\"dataframe\">\n",
       "  <thead>\n",
       "    <tr style=\"text-align: right;\">\n",
       "      <th></th>\n",
       "      <th>customer_id</th>\n",
       "      <th>gender</th>\n",
       "      <th>is_senior_citizen</th>\n",
       "      <th>partner</th>\n",
       "      <th>dependents</th>\n",
       "      <th>phone_service</th>\n",
       "      <th>internet_service</th>\n",
       "      <th>contract_type</th>\n",
       "      <th>payment_type</th>\n",
       "      <th>monthly_charges</th>\n",
       "      <th>...</th>\n",
       "      <th>dependents_no_partners</th>\n",
       "      <th>yes_dependents_and_partners</th>\n",
       "      <th>Unnamed: 23</th>\n",
       "      <th>start_date</th>\n",
       "      <th>average_monthly_charges</th>\n",
       "      <th>validate_monthly_charges</th>\n",
       "      <th>contract_type_desc</th>\n",
       "      <th>phone_type_desc</th>\n",
       "      <th>internet_type_desc</th>\n",
       "      <th>Unnamed: 30</th>\n",
       "    </tr>\n",
       "  </thead>\n",
       "  <tbody>\n",
       "    <tr>\n",
       "      <th>0</th>\n",
       "      <td>1371-DWPAZ</td>\n",
       "      <td>Female</td>\n",
       "      <td>0</td>\n",
       "      <td>Yes</td>\n",
       "      <td>Yes</td>\n",
       "      <td>No Phone Service</td>\n",
       "      <td>DSL</td>\n",
       "      <td>2 Year</td>\n",
       "      <td>Credit card (automatic)</td>\n",
       "      <td>56.05</td>\n",
       "      <td>...</td>\n",
       "      <td>0.0</td>\n",
       "      <td>1.0</td>\n",
       "      <td>3.0</td>\n",
       "      <td>2021-08-16</td>\n",
       "      <td>0.0</td>\n",
       "      <td>False</td>\n",
       "      <td>2 Year</td>\n",
       "      <td>No Phone Service</td>\n",
       "      <td>DSL</td>\n",
       "      <td>NaN</td>\n",
       "    </tr>\n",
       "    <tr>\n",
       "      <th>1</th>\n",
       "      <td>2520-SGTTA</td>\n",
       "      <td>Female</td>\n",
       "      <td>0</td>\n",
       "      <td>Yes</td>\n",
       "      <td>Yes</td>\n",
       "      <td>One line</td>\n",
       "      <td>No Internet Service</td>\n",
       "      <td>2 Year</td>\n",
       "      <td>Mailed check</td>\n",
       "      <td>20.00</td>\n",
       "      <td>...</td>\n",
       "      <td>NaN</td>\n",
       "      <td>NaN</td>\n",
       "      <td>NaN</td>\n",
       "      <td>2021-08-16</td>\n",
       "      <td>0.0</td>\n",
       "      <td>False</td>\n",
       "      <td>2 Year</td>\n",
       "      <td>One Line</td>\n",
       "      <td>No Internet Service</td>\n",
       "      <td>NaN</td>\n",
       "    </tr>\n",
       "    <tr>\n",
       "      <th>2</th>\n",
       "      <td>2775-SEFEE</td>\n",
       "      <td>Male</td>\n",
       "      <td>0</td>\n",
       "      <td>No</td>\n",
       "      <td>Yes</td>\n",
       "      <td>Two or more lines</td>\n",
       "      <td>DSL</td>\n",
       "      <td>2 Year</td>\n",
       "      <td>Bank transfer (automatic)</td>\n",
       "      <td>61.90</td>\n",
       "      <td>...</td>\n",
       "      <td>NaN</td>\n",
       "      <td>NaN</td>\n",
       "      <td>NaN</td>\n",
       "      <td>2021-08-16</td>\n",
       "      <td>0.0</td>\n",
       "      <td>False</td>\n",
       "      <td>2 Year</td>\n",
       "      <td>Two or More Lines</td>\n",
       "      <td>DSL</td>\n",
       "      <td>NaN</td>\n",
       "    </tr>\n",
       "    <tr>\n",
       "      <th>3</th>\n",
       "      <td>2923-ARZLG</td>\n",
       "      <td>Male</td>\n",
       "      <td>0</td>\n",
       "      <td>Yes</td>\n",
       "      <td>Yes</td>\n",
       "      <td>One line</td>\n",
       "      <td>No Internet Service</td>\n",
       "      <td>1 Year</td>\n",
       "      <td>Mailed check</td>\n",
       "      <td>19.70</td>\n",
       "      <td>...</td>\n",
       "      <td>NaN</td>\n",
       "      <td>NaN</td>\n",
       "      <td>NaN</td>\n",
       "      <td>2021-08-16</td>\n",
       "      <td>0.0</td>\n",
       "      <td>False</td>\n",
       "      <td>1 Year</td>\n",
       "      <td>One Line</td>\n",
       "      <td>No Internet Service</td>\n",
       "      <td>NaN</td>\n",
       "    </tr>\n",
       "    <tr>\n",
       "      <th>4</th>\n",
       "      <td>3115-CZMZD</td>\n",
       "      <td>Male</td>\n",
       "      <td>0</td>\n",
       "      <td>No</td>\n",
       "      <td>Yes</td>\n",
       "      <td>One line</td>\n",
       "      <td>No Internet Service</td>\n",
       "      <td>2 Year</td>\n",
       "      <td>Mailed check</td>\n",
       "      <td>20.25</td>\n",
       "      <td>...</td>\n",
       "      <td>NaN</td>\n",
       "      <td>NaN</td>\n",
       "      <td>NaN</td>\n",
       "      <td>2021-08-16</td>\n",
       "      <td>0.0</td>\n",
       "      <td>False</td>\n",
       "      <td>2 Year</td>\n",
       "      <td>One Line</td>\n",
       "      <td>No Internet Service</td>\n",
       "      <td>NaN</td>\n",
       "    </tr>\n",
       "  </tbody>\n",
       "</table>\n",
       "<p>5 rows × 31 columns</p>\n",
       "</div>"
      ],
      "text/plain": [
       "  customer_id  gender  is_senior_citizen partner dependents  \\\n",
       "0  1371-DWPAZ  Female                  0     Yes        Yes   \n",
       "1  2520-SGTTA  Female                  0     Yes        Yes   \n",
       "2  2775-SEFEE    Male                  0      No        Yes   \n",
       "3  2923-ARZLG    Male                  0     Yes        Yes   \n",
       "4  3115-CZMZD    Male                  0      No        Yes   \n",
       "\n",
       "       phone_service     internet_service contract_type  \\\n",
       "0   No Phone Service                  DSL        2 Year   \n",
       "1           One line  No Internet Service        2 Year   \n",
       "2  Two or more lines                  DSL        2 Year   \n",
       "3           One line  No Internet Service        1 Year   \n",
       "4           One line  No Internet Service        2 Year   \n",
       "\n",
       "                payment_type  monthly_charges  ...  dependents_no_partners  \\\n",
       "0    Credit card (automatic)            56.05  ...                     0.0   \n",
       "1               Mailed check            20.00  ...                     NaN   \n",
       "2  Bank transfer (automatic)            61.90  ...                     NaN   \n",
       "3               Mailed check            19.70  ...                     NaN   \n",
       "4               Mailed check            20.25  ...                     NaN   \n",
       "\n",
       "  yes_dependents_and_partners  Unnamed: 23  start_date  \\\n",
       "0                         1.0          3.0  2021-08-16   \n",
       "1                         NaN          NaN  2021-08-16   \n",
       "2                         NaN          NaN  2021-08-16   \n",
       "3                         NaN          NaN  2021-08-16   \n",
       "4                         NaN          NaN  2021-08-16   \n",
       "\n",
       "   average_monthly_charges  validate_monthly_charges  contract_type_desc  \\\n",
       "0                      0.0                     False              2 Year   \n",
       "1                      0.0                     False              2 Year   \n",
       "2                      0.0                     False              2 Year   \n",
       "3                      0.0                     False              1 Year   \n",
       "4                      0.0                     False              2 Year   \n",
       "\n",
       "     phone_type_desc   internet_type_desc  Unnamed: 30  \n",
       "0   No Phone Service                  DSL          NaN  \n",
       "1           One Line  No Internet Service          NaN  \n",
       "2  Two or More Lines                  DSL          NaN  \n",
       "3           One Line  No Internet Service          NaN  \n",
       "4           One Line  No Internet Service          NaN  \n",
       "\n",
       "[5 rows x 31 columns]"
      ]
     },
     "execution_count": 16,
     "metadata": {},
     "output_type": "execute_result"
    }
   ],
   "source": [
    "# Assign the first 100 rows\n",
    "df_excel_sample = telco.loc[0:100, :].copy() # Why am I using .copy, here?\n",
    "df_excel_sample.head()"
   ]
  },
  {
   "cell_type": "code",
   "execution_count": 17,
   "id": "119204e4",
   "metadata": {},
   "outputs": [
    {
     "data": {
      "text/plain": [
       "7043"
      ]
     },
     "execution_count": 17,
     "metadata": {},
     "output_type": "execute_result"
    }
   ],
   "source": [
    "# print the number of rows in the dataframe\n",
    "telco.shape[0]"
   ]
  },
  {
   "cell_type": "code",
   "execution_count": 18,
   "id": "6681950f",
   "metadata": {},
   "outputs": [
    {
     "data": {
      "text/plain": [
       "Index(['customer_id', 'gender', 'is_senior_citizen', 'partner', 'dependents'], dtype='object')"
      ]
     },
     "execution_count": 18,
     "metadata": {},
     "output_type": "execute_result"
    }
   ],
   "source": [
    "# print the first 5 column names\n",
    "telco.columns[0:5] # or telco.columns[:5]"
   ]
  },
  {
   "cell_type": "code",
   "execution_count": 19,
   "id": "8a64b563",
   "metadata": {},
   "outputs": [
    {
     "data": {
      "text/plain": [
       "['customer_id',\n",
       " 'gender',\n",
       " 'partner',\n",
       " 'dependents',\n",
       " 'phone_service',\n",
       " 'internet_service',\n",
       " 'contract_type',\n",
       " 'payment_type',\n",
       " 'churn',\n",
       " 'contract_type_desc',\n",
       " 'phone_type_desc',\n",
       " 'internet_type_desc']"
      ]
     },
     "execution_count": 19,
     "metadata": {},
     "output_type": "execute_result"
    }
   ],
   "source": [
    "# Print the column names that have a data type of object.¶\n",
    "# df_excel_sample.select_dtypes(include='object').head()\n",
    "telco.select_dtypes(include='object').columns.tolist()"
   ]
  },
  {
   "cell_type": "code",
   "execution_count": 20,
   "id": "a852cd14",
   "metadata": {},
   "outputs": [],
   "source": [
    "# compute the range for each of the numeric variables.\n",
    "numerics = telco.select_dtypes(include=['float64', 'int64'])"
   ]
  },
  {
   "cell_type": "code",
   "execution_count": 21,
   "id": "7b9c5ded",
   "metadata": {},
   "outputs": [
    {
     "name": "stdout",
     "output_type": "stream",
     "text": [
      "Range from min-max of numeric values\n"
     ]
    },
    {
     "data": {
      "text/plain": [
       "is_senior_citizen                 1.000000\n",
       "monthly_charges                 100.500000\n",
       "total_charges                  8666.000000\n",
       "tenure                           79.341772\n",
       "partner_dependents                3.000000\n",
       "no_partners_no_dependents         0.000000\n",
       "no_dependents_yes_partners        0.000000\n",
       "dependents_no_partners            0.000000\n",
       "yes_dependents_and_partners       0.000000\n",
       "Unnamed: 23                       0.000000\n",
       "average_monthly_charges         118.750000\n",
       "Unnamed: 30                            NaN\n",
       "dtype: float64"
      ]
     },
     "execution_count": 21,
     "metadata": {},
     "output_type": "execute_result"
    }
   ],
   "source": [
    "print(\"Range from min-max of numeric values\")\n",
    "numerics.max() - numerics.min()"
   ]
  },
  {
   "cell_type": "code",
   "execution_count": 22,
   "id": "9ec79a4f",
   "metadata": {},
   "outputs": [
    {
     "data": {
      "text/html": [
       "<div>\n",
       "<style scoped>\n",
       "    .dataframe tbody tr th:only-of-type {\n",
       "        vertical-align: middle;\n",
       "    }\n",
       "\n",
       "    .dataframe tbody tr th {\n",
       "        vertical-align: top;\n",
       "    }\n",
       "\n",
       "    .dataframe thead th {\n",
       "        text-align: right;\n",
       "    }\n",
       "</style>\n",
       "<table border=\"1\" class=\"dataframe\">\n",
       "  <thead>\n",
       "    <tr style=\"text-align: right;\">\n",
       "      <th></th>\n",
       "      <th>PassengerId</th>\n",
       "      <th>Survived</th>\n",
       "      <th>Pclass</th>\n",
       "      <th>Name</th>\n",
       "      <th>Sex</th>\n",
       "      <th>Age</th>\n",
       "      <th>SibSp</th>\n",
       "      <th>Parch</th>\n",
       "      <th>Ticket</th>\n",
       "      <th>Fare</th>\n",
       "      <th>Cabin</th>\n",
       "      <th>Embarked</th>\n",
       "    </tr>\n",
       "  </thead>\n",
       "  <tbody>\n",
       "    <tr>\n",
       "      <th>0</th>\n",
       "      <td>1</td>\n",
       "      <td>0</td>\n",
       "      <td>3</td>\n",
       "      <td>Braund, Mr. Owen Harris</td>\n",
       "      <td>male</td>\n",
       "      <td>22.0</td>\n",
       "      <td>1</td>\n",
       "      <td>0</td>\n",
       "      <td>A/5 21171</td>\n",
       "      <td>7.2500</td>\n",
       "      <td>NaN</td>\n",
       "      <td>S</td>\n",
       "    </tr>\n",
       "    <tr>\n",
       "      <th>1</th>\n",
       "      <td>2</td>\n",
       "      <td>1</td>\n",
       "      <td>1</td>\n",
       "      <td>Cumings, Mrs. John Bradley (Florence Briggs Thayer)</td>\n",
       "      <td>female</td>\n",
       "      <td>38.0</td>\n",
       "      <td>1</td>\n",
       "      <td>0</td>\n",
       "      <td>PC 17599</td>\n",
       "      <td>71.2833</td>\n",
       "      <td>C85</td>\n",
       "      <td>C</td>\n",
       "    </tr>\n",
       "    <tr>\n",
       "      <th>2</th>\n",
       "      <td>3</td>\n",
       "      <td>1</td>\n",
       "      <td>3</td>\n",
       "      <td>Heikkinen, Miss. Laina</td>\n",
       "      <td>female</td>\n",
       "      <td>26.0</td>\n",
       "      <td>0</td>\n",
       "      <td>0</td>\n",
       "      <td>STON/O2. 3101282</td>\n",
       "      <td>7.9250</td>\n",
       "      <td>NaN</td>\n",
       "      <td>S</td>\n",
       "    </tr>\n",
       "  </tbody>\n",
       "</table>\n",
       "</div>"
      ],
      "text/plain": [
       "   PassengerId  Survived  Pclass  \\\n",
       "0            1         0       3   \n",
       "1            2         1       1   \n",
       "2            3         1       3   \n",
       "\n",
       "                                                  Name     Sex   Age  SibSp  \\\n",
       "0                              Braund, Mr. Owen Harris    male  22.0      1   \n",
       "1  Cumings, Mrs. John Bradley (Florence Briggs Thayer)  female  38.0      1   \n",
       "2                               Heikkinen, Miss. Laina  female  26.0      0   \n",
       "\n",
       "   Parch            Ticket     Fare Cabin Embarked  \n",
       "0      0         A/5 21171   7.2500   NaN        S  \n",
       "1      0          PC 17599  71.2833   C85        C  \n",
       "2      0  STON/O2. 3101282   7.9250   NaN        S  "
      ]
     },
     "execution_count": 22,
     "metadata": {},
     "output_type": "execute_result"
    }
   ],
   "source": [
    "# Read in a google sheet, being sure to update the query string to export?format=csv\n",
    "url = 'https://docs.google.com/spreadsheets/d/1Uhtml8KY19LILuZsrDtlsHHDC9wuDGUSe8LTEwvdI5g/edit#gid=341089357'\n",
    "url = url.replace('/edit#gid=', '/export?format=csv&gid=')\n",
    "df_google = pd.read_csv(url)\n",
    "\n",
    "# Print the first 3 rows\n",
    "df_google.head(3)"
   ]
  },
  {
   "cell_type": "code",
   "execution_count": 23,
   "id": "58ea38cc",
   "metadata": {},
   "outputs": [
    {
     "data": {
      "text/plain": [
       "(891, 12)"
      ]
     },
     "execution_count": 23,
     "metadata": {},
     "output_type": "execute_result"
    }
   ],
   "source": [
    "# How many rows and columns?\n",
    "df_google.shape"
   ]
  },
  {
   "cell_type": "code",
   "execution_count": 24,
   "id": "af79aab5",
   "metadata": {},
   "outputs": [
    {
     "data": {
      "text/plain": [
       "['PassengerId',\n",
       " 'Survived',\n",
       " 'Pclass',\n",
       " 'Name',\n",
       " 'Sex',\n",
       " 'Age',\n",
       " 'SibSp',\n",
       " 'Parch',\n",
       " 'Ticket',\n",
       " 'Fare',\n",
       " 'Cabin',\n",
       " 'Embarked']"
      ]
     },
     "execution_count": 24,
     "metadata": {},
     "output_type": "execute_result"
    }
   ],
   "source": [
    "# Output the column names\n",
    "df_google.columns.tolist()"
   ]
  },
  {
   "cell_type": "code",
   "execution_count": 25,
   "id": "8fe387d8",
   "metadata": {},
   "outputs": [
    {
     "data": {
      "text/plain": [
       "PassengerId      int64\n",
       "Survived         int64\n",
       "Pclass           int64\n",
       "Name            object\n",
       "Sex             object\n",
       "Age            float64\n",
       "SibSp            int64\n",
       "Parch            int64\n",
       "Ticket          object\n",
       "Fare           float64\n",
       "Cabin           object\n",
       "Embarked        object\n",
       "dtype: object"
      ]
     },
     "execution_count": 25,
     "metadata": {},
     "output_type": "execute_result"
    }
   ],
   "source": [
    "# output the data type of each column\n",
    "df_google.dtypes"
   ]
  },
  {
   "cell_type": "code",
   "execution_count": 26,
   "id": "f1f51545",
   "metadata": {},
   "outputs": [
    {
     "data": {
      "text/html": [
       "<div>\n",
       "<style scoped>\n",
       "    .dataframe tbody tr th:only-of-type {\n",
       "        vertical-align: middle;\n",
       "    }\n",
       "\n",
       "    .dataframe tbody tr th {\n",
       "        vertical-align: top;\n",
       "    }\n",
       "\n",
       "    .dataframe thead th {\n",
       "        text-align: right;\n",
       "    }\n",
       "</style>\n",
       "<table border=\"1\" class=\"dataframe\">\n",
       "  <thead>\n",
       "    <tr style=\"text-align: right;\">\n",
       "      <th></th>\n",
       "      <th>count</th>\n",
       "      <th>mean</th>\n",
       "      <th>std</th>\n",
       "      <th>min</th>\n",
       "      <th>25%</th>\n",
       "      <th>50%</th>\n",
       "      <th>75%</th>\n",
       "      <th>max</th>\n",
       "    </tr>\n",
       "  </thead>\n",
       "  <tbody>\n",
       "    <tr>\n",
       "      <th>PassengerId</th>\n",
       "      <td>891.0</td>\n",
       "      <td>446.000000</td>\n",
       "      <td>257.353842</td>\n",
       "      <td>1.00</td>\n",
       "      <td>223.5000</td>\n",
       "      <td>446.0000</td>\n",
       "      <td>668.5</td>\n",
       "      <td>891.0000</td>\n",
       "    </tr>\n",
       "    <tr>\n",
       "      <th>Survived</th>\n",
       "      <td>891.0</td>\n",
       "      <td>0.383838</td>\n",
       "      <td>0.486592</td>\n",
       "      <td>0.00</td>\n",
       "      <td>0.0000</td>\n",
       "      <td>0.0000</td>\n",
       "      <td>1.0</td>\n",
       "      <td>1.0000</td>\n",
       "    </tr>\n",
       "    <tr>\n",
       "      <th>Pclass</th>\n",
       "      <td>891.0</td>\n",
       "      <td>2.308642</td>\n",
       "      <td>0.836071</td>\n",
       "      <td>1.00</td>\n",
       "      <td>2.0000</td>\n",
       "      <td>3.0000</td>\n",
       "      <td>3.0</td>\n",
       "      <td>3.0000</td>\n",
       "    </tr>\n",
       "    <tr>\n",
       "      <th>Age</th>\n",
       "      <td>714.0</td>\n",
       "      <td>29.699118</td>\n",
       "      <td>14.526497</td>\n",
       "      <td>0.42</td>\n",
       "      <td>20.1250</td>\n",
       "      <td>28.0000</td>\n",
       "      <td>38.0</td>\n",
       "      <td>80.0000</td>\n",
       "    </tr>\n",
       "    <tr>\n",
       "      <th>SibSp</th>\n",
       "      <td>891.0</td>\n",
       "      <td>0.523008</td>\n",
       "      <td>1.102743</td>\n",
       "      <td>0.00</td>\n",
       "      <td>0.0000</td>\n",
       "      <td>0.0000</td>\n",
       "      <td>1.0</td>\n",
       "      <td>8.0000</td>\n",
       "    </tr>\n",
       "    <tr>\n",
       "      <th>Parch</th>\n",
       "      <td>891.0</td>\n",
       "      <td>0.381594</td>\n",
       "      <td>0.806057</td>\n",
       "      <td>0.00</td>\n",
       "      <td>0.0000</td>\n",
       "      <td>0.0000</td>\n",
       "      <td>0.0</td>\n",
       "      <td>6.0000</td>\n",
       "    </tr>\n",
       "    <tr>\n",
       "      <th>Fare</th>\n",
       "      <td>891.0</td>\n",
       "      <td>32.204208</td>\n",
       "      <td>49.693429</td>\n",
       "      <td>0.00</td>\n",
       "      <td>7.9104</td>\n",
       "      <td>14.4542</td>\n",
       "      <td>31.0</td>\n",
       "      <td>512.3292</td>\n",
       "    </tr>\n",
       "  </tbody>\n",
       "</table>\n",
       "</div>"
      ],
      "text/plain": [
       "             count        mean         std   min       25%       50%    75%  \\\n",
       "PassengerId  891.0  446.000000  257.353842  1.00  223.5000  446.0000  668.5   \n",
       "Survived     891.0    0.383838    0.486592  0.00    0.0000    0.0000    1.0   \n",
       "Pclass       891.0    2.308642    0.836071  1.00    2.0000    3.0000    3.0   \n",
       "Age          714.0   29.699118   14.526497  0.42   20.1250   28.0000   38.0   \n",
       "SibSp        891.0    0.523008    1.102743  0.00    0.0000    0.0000    1.0   \n",
       "Parch        891.0    0.381594    0.806057  0.00    0.0000    0.0000    0.0   \n",
       "Fare         891.0   32.204208   49.693429  0.00    7.9104   14.4542   31.0   \n",
       "\n",
       "                  max  \n",
       "PassengerId  891.0000  \n",
       "Survived       1.0000  \n",
       "Pclass         3.0000  \n",
       "Age           80.0000  \n",
       "SibSp          8.0000  \n",
       "Parch          6.0000  \n",
       "Fare         512.3292  "
      ]
     },
     "execution_count": 26,
     "metadata": {},
     "output_type": "execute_result"
    }
   ],
   "source": [
    "# print the summary statistics for each of the numeric variables\n",
    "df_google.describe().T"
   ]
  },
  {
   "cell_type": "code",
   "execution_count": 27,
   "id": "26b1fc5a",
   "metadata": {},
   "outputs": [
    {
     "name": "stdout",
     "output_type": "stream",
     "text": [
      "Values in the Name column:\n",
      "Bowen, Mr. David John \"Dai\"        1\n",
      "O'Connor, Mr. Maurice              1\n",
      "Mernagh, Mr. Robert                1\n",
      "Isham, Miss. Ann Elizabeth         1\n",
      "O'Connell, Mr. Patrick D           1\n",
      "                                  ..\n",
      "Vander Planke, Mr. Leo Edmondus    1\n",
      "Wiseman, Mr. Phillippe             1\n",
      "Williams, Mr. Leslie               1\n",
      "Attalah, Miss. Malake              1\n",
      "Kimball, Mr. Edwin Nelson Jr       1\n",
      "Name: Name, Length: 891, dtype: int64\n",
      "------\n",
      "\n",
      "Values in the Sex column:\n",
      "male      577\n",
      "female    314\n",
      "Name: Sex, dtype: int64\n",
      "------\n",
      "\n",
      "Values in the Ticket column:\n",
      "1601               7\n",
      "CA. 2343           7\n",
      "347082             7\n",
      "CA 2144            6\n",
      "3101295            6\n",
      "                  ..\n",
      "2693               1\n",
      "SOTON/OQ 392089    1\n",
      "PC 17475           1\n",
      "365222             1\n",
      "330919             1\n",
      "Name: Ticket, Length: 681, dtype: int64\n",
      "------\n",
      "\n",
      "Values in the Cabin column:\n",
      "G6                 4\n",
      "B96 B98            4\n",
      "C23 C25 C27        4\n",
      "C22 C26            3\n",
      "E101               3\n",
      "F2                 3\n",
      "D                  3\n",
      "F33                3\n",
      "C92                2\n",
      "B5                 2\n",
      "B58 B60            2\n",
      "E121               2\n",
      "C78                2\n",
      "C124               2\n",
      "D17                2\n",
      "C52                2\n",
      "D26                2\n",
      "E24                2\n",
      "B49                2\n",
      "E44                2\n",
      "C93                2\n",
      "B28                2\n",
      "B77                2\n",
      "C123               2\n",
      "B18                2\n",
      "D33                2\n",
      "E25                2\n",
      "B35                2\n",
      "C126               2\n",
      "E33                2\n",
      "F4                 2\n",
      "F G73              2\n",
      "E8                 2\n",
      "D36                2\n",
      "B22                2\n",
      "C125               2\n",
      "B57 B59 B63 B66    2\n",
      "E67                2\n",
      "C2                 2\n",
      "B20                2\n",
      "D20                2\n",
      "C83                2\n",
      "B51 B53 B55        2\n",
      "C65                2\n",
      "D35                2\n",
      "C68                2\n",
      "C91                1\n",
      "C7                 1\n",
      "C111               1\n",
      "D50                1\n",
      "B79                1\n",
      "C85                1\n",
      "C110               1\n",
      "B101               1\n",
      "D10 D12            1\n",
      "E68                1\n",
      "B50                1\n",
      "E34                1\n",
      "D45                1\n",
      "C103               1\n",
      "B102               1\n",
      "E10                1\n",
      "F E69              1\n",
      "A31                1\n",
      "D47                1\n",
      "E38                1\n",
      "B71                1\n",
      "D9                 1\n",
      "E46                1\n",
      "A36                1\n",
      "D49                1\n",
      "C54                1\n",
      "D21                1\n",
      "C50                1\n",
      "B38                1\n",
      "B37                1\n",
      "C47                1\n",
      "A32                1\n",
      "B73                1\n",
      "E49                1\n",
      "D7                 1\n",
      "A26                1\n",
      "C30                1\n",
      "C99                1\n",
      "C87                1\n",
      "D28                1\n",
      "A16                1\n",
      "D6                 1\n",
      "C106               1\n",
      "A34                1\n",
      "D30                1\n",
      "A5                 1\n",
      "A10                1\n",
      "E77                1\n",
      "D56                1\n",
      "A6                 1\n",
      "C49                1\n",
      "T                  1\n",
      "C70                1\n",
      "B86                1\n",
      "C101               1\n",
      "E12                1\n",
      "A14                1\n",
      "B30                1\n",
      "C90                1\n",
      "B78                1\n",
      "A19                1\n",
      "C46                1\n",
      "C148               1\n",
      "B4                 1\n",
      "C82                1\n",
      "D19                1\n",
      "A20                1\n",
      "A23                1\n",
      "C86                1\n",
      "D37                1\n",
      "C118               1\n",
      "B82 B84            1\n",
      "B39                1\n",
      "C32                1\n",
      "E31                1\n",
      "E58                1\n",
      "A24                1\n",
      "E36                1\n",
      "F G63              1\n",
      "B80                1\n",
      "B3                 1\n",
      "E50                1\n",
      "B42                1\n",
      "C45                1\n",
      "E40                1\n",
      "A7                 1\n",
      "B41                1\n",
      "D11                1\n",
      "B94                1\n",
      "B69                1\n",
      "F38                1\n",
      "D48                1\n",
      "B19                1\n",
      "D15                1\n",
      "C95                1\n",
      "E17                1\n",
      "E63                1\n",
      "C104               1\n",
      "C128               1\n",
      "D46                1\n",
      "C62 C64            1\n",
      "Name: Cabin, dtype: int64\n",
      "------\n",
      "\n",
      "Values in the Embarked column:\n",
      "S    644\n",
      "C    168\n",
      "Q     77\n",
      "Name: Embarked, dtype: int64\n",
      "------\n",
      "\n"
     ]
    }
   ],
   "source": [
    "# print the unique values for each of your categorical variables\n",
    "for column in df_google.select_dtypes(include='object').columns:\n",
    "    print(f\"Values in the {column} column:\")\n",
    "    print(df_google[column].value_counts())\n",
    "    print(\"------\")\n",
    "    print()"
   ]
  },
  {
   "cell_type": "code",
   "execution_count": null,
   "id": "e0e7266d",
   "metadata": {},
   "outputs": [],
   "source": []
  },
  {
   "cell_type": "code",
   "execution_count": 28,
   "id": "7b7b3ac2",
   "metadata": {},
   "outputs": [],
   "source": [
    "import pandas as pd\n",
    "import numpy as np\n",
    "import matplotlib.pyplot as plt\n",
    "\n",
    "from sklearn.model_selection import train_test_split\n",
    "from sklearn.impute import SimpleImputer\n",
    "\n",
    "import warnings\n",
    "warnings.filterwarnings(\"ignore\")\n",
    "\n",
    "import acquire"
   ]
  },
  {
   "cell_type": "markdown",
   "id": "c3916238",
   "metadata": {},
   "source": [
    "# Using the Iris Data:\n",
    "\n",
    "1. Use the function defined in acquire.py to load the iris data."
   ]
  },
  {
   "cell_type": "code",
   "execution_count": 29,
   "id": "8f896a21",
   "metadata": {},
   "outputs": [],
   "source": [
    "df = acquire.new_iris_data()"
   ]
  },
  {
   "cell_type": "code",
   "execution_count": 30,
   "id": "19ea89ad",
   "metadata": {},
   "outputs": [
    {
     "data": {
      "text/html": [
       "<div>\n",
       "<style scoped>\n",
       "    .dataframe tbody tr th:only-of-type {\n",
       "        vertical-align: middle;\n",
       "    }\n",
       "\n",
       "    .dataframe tbody tr th {\n",
       "        vertical-align: top;\n",
       "    }\n",
       "\n",
       "    .dataframe thead th {\n",
       "        text-align: right;\n",
       "    }\n",
       "</style>\n",
       "<table border=\"1\" class=\"dataframe\">\n",
       "  <thead>\n",
       "    <tr style=\"text-align: right;\">\n",
       "      <th></th>\n",
       "      <th>species_id</th>\n",
       "      <th>species_name</th>\n",
       "      <th>sepal_length</th>\n",
       "      <th>sepal_width</th>\n",
       "      <th>petal_length</th>\n",
       "      <th>petal_width</th>\n",
       "    </tr>\n",
       "  </thead>\n",
       "  <tbody>\n",
       "    <tr>\n",
       "      <th>0</th>\n",
       "      <td>1</td>\n",
       "      <td>setosa</td>\n",
       "      <td>5.1</td>\n",
       "      <td>3.5</td>\n",
       "      <td>1.4</td>\n",
       "      <td>0.2</td>\n",
       "    </tr>\n",
       "    <tr>\n",
       "      <th>1</th>\n",
       "      <td>1</td>\n",
       "      <td>setosa</td>\n",
       "      <td>4.9</td>\n",
       "      <td>3.0</td>\n",
       "      <td>1.4</td>\n",
       "      <td>0.2</td>\n",
       "    </tr>\n",
       "    <tr>\n",
       "      <th>2</th>\n",
       "      <td>1</td>\n",
       "      <td>setosa</td>\n",
       "      <td>4.7</td>\n",
       "      <td>3.2</td>\n",
       "      <td>1.3</td>\n",
       "      <td>0.2</td>\n",
       "    </tr>\n",
       "    <tr>\n",
       "      <th>3</th>\n",
       "      <td>1</td>\n",
       "      <td>setosa</td>\n",
       "      <td>4.6</td>\n",
       "      <td>3.1</td>\n",
       "      <td>1.5</td>\n",
       "      <td>0.2</td>\n",
       "    </tr>\n",
       "    <tr>\n",
       "      <th>4</th>\n",
       "      <td>1</td>\n",
       "      <td>setosa</td>\n",
       "      <td>5.0</td>\n",
       "      <td>3.6</td>\n",
       "      <td>1.4</td>\n",
       "      <td>0.2</td>\n",
       "    </tr>\n",
       "  </tbody>\n",
       "</table>\n",
       "</div>"
      ],
      "text/plain": [
       "   species_id species_name  sepal_length  sepal_width  petal_length  \\\n",
       "0           1       setosa           5.1          3.5           1.4   \n",
       "1           1       setosa           4.9          3.0           1.4   \n",
       "2           1       setosa           4.7          3.2           1.3   \n",
       "3           1       setosa           4.6          3.1           1.5   \n",
       "4           1       setosa           5.0          3.6           1.4   \n",
       "\n",
       "   petal_width  \n",
       "0          0.2  \n",
       "1          0.2  \n",
       "2          0.2  \n",
       "3          0.2  \n",
       "4          0.2  "
      ]
     },
     "execution_count": 30,
     "metadata": {},
     "output_type": "execute_result"
    }
   ],
   "source": [
    "df.head(5)"
   ]
  },
  {
   "cell_type": "markdown",
   "id": "ed95d33e",
   "metadata": {},
   "source": [
    "### 2. Drop the species_id and measurement_id columns."
   ]
  },
  {
   "cell_type": "code",
   "execution_count": 31,
   "id": "0a65ad3d",
   "metadata": {},
   "outputs": [],
   "source": [
    "df = df.drop(columns=['species_id'])"
   ]
  },
  {
   "cell_type": "code",
   "execution_count": 32,
   "id": "8322e0a0",
   "metadata": {},
   "outputs": [
    {
     "data": {
      "text/html": [
       "<div>\n",
       "<style scoped>\n",
       "    .dataframe tbody tr th:only-of-type {\n",
       "        vertical-align: middle;\n",
       "    }\n",
       "\n",
       "    .dataframe tbody tr th {\n",
       "        vertical-align: top;\n",
       "    }\n",
       "\n",
       "    .dataframe thead th {\n",
       "        text-align: right;\n",
       "    }\n",
       "</style>\n",
       "<table border=\"1\" class=\"dataframe\">\n",
       "  <thead>\n",
       "    <tr style=\"text-align: right;\">\n",
       "      <th></th>\n",
       "      <th>species_name</th>\n",
       "      <th>sepal_length</th>\n",
       "      <th>sepal_width</th>\n",
       "      <th>petal_length</th>\n",
       "      <th>petal_width</th>\n",
       "    </tr>\n",
       "  </thead>\n",
       "  <tbody>\n",
       "    <tr>\n",
       "      <th>0</th>\n",
       "      <td>setosa</td>\n",
       "      <td>5.1</td>\n",
       "      <td>3.5</td>\n",
       "      <td>1.4</td>\n",
       "      <td>0.2</td>\n",
       "    </tr>\n",
       "    <tr>\n",
       "      <th>1</th>\n",
       "      <td>setosa</td>\n",
       "      <td>4.9</td>\n",
       "      <td>3.0</td>\n",
       "      <td>1.4</td>\n",
       "      <td>0.2</td>\n",
       "    </tr>\n",
       "    <tr>\n",
       "      <th>2</th>\n",
       "      <td>setosa</td>\n",
       "      <td>4.7</td>\n",
       "      <td>3.2</td>\n",
       "      <td>1.3</td>\n",
       "      <td>0.2</td>\n",
       "    </tr>\n",
       "    <tr>\n",
       "      <th>3</th>\n",
       "      <td>setosa</td>\n",
       "      <td>4.6</td>\n",
       "      <td>3.1</td>\n",
       "      <td>1.5</td>\n",
       "      <td>0.2</td>\n",
       "    </tr>\n",
       "    <tr>\n",
       "      <th>4</th>\n",
       "      <td>setosa</td>\n",
       "      <td>5.0</td>\n",
       "      <td>3.6</td>\n",
       "      <td>1.4</td>\n",
       "      <td>0.2</td>\n",
       "    </tr>\n",
       "  </tbody>\n",
       "</table>\n",
       "</div>"
      ],
      "text/plain": [
       "  species_name  sepal_length  sepal_width  petal_length  petal_width\n",
       "0       setosa           5.1          3.5           1.4          0.2\n",
       "1       setosa           4.9          3.0           1.4          0.2\n",
       "2       setosa           4.7          3.2           1.3          0.2\n",
       "3       setosa           4.6          3.1           1.5          0.2\n",
       "4       setosa           5.0          3.6           1.4          0.2"
      ]
     },
     "execution_count": 32,
     "metadata": {},
     "output_type": "execute_result"
    }
   ],
   "source": [
    "df.head(5)"
   ]
  },
  {
   "cell_type": "markdown",
   "id": "e97ff23b",
   "metadata": {},
   "source": [
    "### 3. Rename the species_name column to just species. "
   ]
  },
  {
   "cell_type": "code",
   "execution_count": 33,
   "id": "f9cffa2a",
   "metadata": {},
   "outputs": [
    {
     "data": {
      "text/html": [
       "<div>\n",
       "<style scoped>\n",
       "    .dataframe tbody tr th:only-of-type {\n",
       "        vertical-align: middle;\n",
       "    }\n",
       "\n",
       "    .dataframe tbody tr th {\n",
       "        vertical-align: top;\n",
       "    }\n",
       "\n",
       "    .dataframe thead th {\n",
       "        text-align: right;\n",
       "    }\n",
       "</style>\n",
       "<table border=\"1\" class=\"dataframe\">\n",
       "  <thead>\n",
       "    <tr style=\"text-align: right;\">\n",
       "      <th></th>\n",
       "      <th>species</th>\n",
       "      <th>sepal_length</th>\n",
       "      <th>sepal_width</th>\n",
       "      <th>petal_length</th>\n",
       "      <th>petal_width</th>\n",
       "    </tr>\n",
       "  </thead>\n",
       "  <tbody>\n",
       "    <tr>\n",
       "      <th>0</th>\n",
       "      <td>setosa</td>\n",
       "      <td>5.1</td>\n",
       "      <td>3.5</td>\n",
       "      <td>1.4</td>\n",
       "      <td>0.2</td>\n",
       "    </tr>\n",
       "    <tr>\n",
       "      <th>1</th>\n",
       "      <td>setosa</td>\n",
       "      <td>4.9</td>\n",
       "      <td>3.0</td>\n",
       "      <td>1.4</td>\n",
       "      <td>0.2</td>\n",
       "    </tr>\n",
       "    <tr>\n",
       "      <th>2</th>\n",
       "      <td>setosa</td>\n",
       "      <td>4.7</td>\n",
       "      <td>3.2</td>\n",
       "      <td>1.3</td>\n",
       "      <td>0.2</td>\n",
       "    </tr>\n",
       "    <tr>\n",
       "      <th>3</th>\n",
       "      <td>setosa</td>\n",
       "      <td>4.6</td>\n",
       "      <td>3.1</td>\n",
       "      <td>1.5</td>\n",
       "      <td>0.2</td>\n",
       "    </tr>\n",
       "    <tr>\n",
       "      <th>4</th>\n",
       "      <td>setosa</td>\n",
       "      <td>5.0</td>\n",
       "      <td>3.6</td>\n",
       "      <td>1.4</td>\n",
       "      <td>0.2</td>\n",
       "    </tr>\n",
       "  </tbody>\n",
       "</table>\n",
       "</div>"
      ],
      "text/plain": [
       "  species  sepal_length  sepal_width  petal_length  petal_width\n",
       "0  setosa           5.1          3.5           1.4          0.2\n",
       "1  setosa           4.9          3.0           1.4          0.2\n",
       "2  setosa           4.7          3.2           1.3          0.2\n",
       "3  setosa           4.6          3.1           1.5          0.2\n",
       "4  setosa           5.0          3.6           1.4          0.2"
      ]
     },
     "execution_count": 33,
     "metadata": {},
     "output_type": "execute_result"
    }
   ],
   "source": [
    "df = df.rename(columns={'species_name':'species'})\n",
    "df.head()"
   ]
  },
  {
   "cell_type": "markdown",
   "id": "a207011c",
   "metadata": {},
   "source": [
    "### 4. Create dummy variables of the species name."
   ]
  },
  {
   "cell_type": "code",
   "execution_count": 34,
   "id": "79e385ef",
   "metadata": {},
   "outputs": [
    {
     "data": {
      "text/html": [
       "<div>\n",
       "<style scoped>\n",
       "    .dataframe tbody tr th:only-of-type {\n",
       "        vertical-align: middle;\n",
       "    }\n",
       "\n",
       "    .dataframe tbody tr th {\n",
       "        vertical-align: top;\n",
       "    }\n",
       "\n",
       "    .dataframe thead th {\n",
       "        text-align: right;\n",
       "    }\n",
       "</style>\n",
       "<table border=\"1\" class=\"dataframe\">\n",
       "  <thead>\n",
       "    <tr style=\"text-align: right;\">\n",
       "      <th></th>\n",
       "      <th>setosa</th>\n",
       "      <th>versicolor</th>\n",
       "      <th>virginica</th>\n",
       "    </tr>\n",
       "  </thead>\n",
       "  <tbody>\n",
       "    <tr>\n",
       "      <th>0</th>\n",
       "      <td>1</td>\n",
       "      <td>0</td>\n",
       "      <td>0</td>\n",
       "    </tr>\n",
       "    <tr>\n",
       "      <th>1</th>\n",
       "      <td>1</td>\n",
       "      <td>0</td>\n",
       "      <td>0</td>\n",
       "    </tr>\n",
       "    <tr>\n",
       "      <th>2</th>\n",
       "      <td>1</td>\n",
       "      <td>0</td>\n",
       "      <td>0</td>\n",
       "    </tr>\n",
       "    <tr>\n",
       "      <th>3</th>\n",
       "      <td>1</td>\n",
       "      <td>0</td>\n",
       "      <td>0</td>\n",
       "    </tr>\n",
       "    <tr>\n",
       "      <th>4</th>\n",
       "      <td>1</td>\n",
       "      <td>0</td>\n",
       "      <td>0</td>\n",
       "    </tr>\n",
       "  </tbody>\n",
       "</table>\n",
       "</div>"
      ],
      "text/plain": [
       "   setosa  versicolor  virginica\n",
       "0       1           0          0\n",
       "1       1           0          0\n",
       "2       1           0          0\n",
       "3       1           0          0\n",
       "4       1           0          0"
      ]
     },
     "execution_count": 34,
     "metadata": {},
     "output_type": "execute_result"
    }
   ],
   "source": [
    "# create dummies using .get_dummies(column_name,not dropping any of the dummy columns)\n",
    "dummy_df = pd.get_dummies(df['species'], drop_first=False)\n",
    "dummy_df.head()"
   ]
  },
  {
   "cell_type": "code",
   "execution_count": 35,
   "id": "5ed61307",
   "metadata": {},
   "outputs": [
    {
     "data": {
      "text/html": [
       "<div>\n",
       "<style scoped>\n",
       "    .dataframe tbody tr th:only-of-type {\n",
       "        vertical-align: middle;\n",
       "    }\n",
       "\n",
       "    .dataframe tbody tr th {\n",
       "        vertical-align: top;\n",
       "    }\n",
       "\n",
       "    .dataframe thead th {\n",
       "        text-align: right;\n",
       "    }\n",
       "</style>\n",
       "<table border=\"1\" class=\"dataframe\">\n",
       "  <thead>\n",
       "    <tr style=\"text-align: right;\">\n",
       "      <th></th>\n",
       "      <th>species</th>\n",
       "      <th>sepal_length</th>\n",
       "      <th>sepal_width</th>\n",
       "      <th>petal_length</th>\n",
       "      <th>petal_width</th>\n",
       "      <th>setosa</th>\n",
       "      <th>versicolor</th>\n",
       "      <th>virginica</th>\n",
       "    </tr>\n",
       "  </thead>\n",
       "  <tbody>\n",
       "    <tr>\n",
       "      <th>0</th>\n",
       "      <td>setosa</td>\n",
       "      <td>5.1</td>\n",
       "      <td>3.5</td>\n",
       "      <td>1.4</td>\n",
       "      <td>0.2</td>\n",
       "      <td>1</td>\n",
       "      <td>0</td>\n",
       "      <td>0</td>\n",
       "    </tr>\n",
       "    <tr>\n",
       "      <th>1</th>\n",
       "      <td>setosa</td>\n",
       "      <td>4.9</td>\n",
       "      <td>3.0</td>\n",
       "      <td>1.4</td>\n",
       "      <td>0.2</td>\n",
       "      <td>1</td>\n",
       "      <td>0</td>\n",
       "      <td>0</td>\n",
       "    </tr>\n",
       "    <tr>\n",
       "      <th>2</th>\n",
       "      <td>setosa</td>\n",
       "      <td>4.7</td>\n",
       "      <td>3.2</td>\n",
       "      <td>1.3</td>\n",
       "      <td>0.2</td>\n",
       "      <td>1</td>\n",
       "      <td>0</td>\n",
       "      <td>0</td>\n",
       "    </tr>\n",
       "    <tr>\n",
       "      <th>3</th>\n",
       "      <td>setosa</td>\n",
       "      <td>4.6</td>\n",
       "      <td>3.1</td>\n",
       "      <td>1.5</td>\n",
       "      <td>0.2</td>\n",
       "      <td>1</td>\n",
       "      <td>0</td>\n",
       "      <td>0</td>\n",
       "    </tr>\n",
       "    <tr>\n",
       "      <th>4</th>\n",
       "      <td>setosa</td>\n",
       "      <td>5.0</td>\n",
       "      <td>3.6</td>\n",
       "      <td>1.4</td>\n",
       "      <td>0.2</td>\n",
       "      <td>1</td>\n",
       "      <td>0</td>\n",
       "      <td>0</td>\n",
       "    </tr>\n",
       "  </tbody>\n",
       "</table>\n",
       "</div>"
      ],
      "text/plain": [
       "  species  sepal_length  sepal_width  petal_length  petal_width  setosa  \\\n",
       "0  setosa           5.1          3.5           1.4          0.2       1   \n",
       "1  setosa           4.9          3.0           1.4          0.2       1   \n",
       "2  setosa           4.7          3.2           1.3          0.2       1   \n",
       "3  setosa           4.6          3.1           1.5          0.2       1   \n",
       "4  setosa           5.0          3.6           1.4          0.2       1   \n",
       "\n",
       "   versicolor  virginica  \n",
       "0           0          0  \n",
       "1           0          0  \n",
       "2           0          0  \n",
       "3           0          0  \n",
       "4           0          0  "
      ]
     },
     "execution_count": 35,
     "metadata": {},
     "output_type": "execute_result"
    }
   ],
   "source": [
    "# join original df with dummies df using .concat([original_df,dummy_df], join along the index)\n",
    "df = pd.concat([df, dummy_df], axis=1)\n",
    "df.head()"
   ]
  },
  {
   "cell_type": "code",
   "execution_count": 36,
   "id": "a804aadb",
   "metadata": {},
   "outputs": [
    {
     "data": {
      "text/html": [
       "<div>\n",
       "<style scoped>\n",
       "    .dataframe tbody tr th:only-of-type {\n",
       "        vertical-align: middle;\n",
       "    }\n",
       "\n",
       "    .dataframe tbody tr th {\n",
       "        vertical-align: top;\n",
       "    }\n",
       "\n",
       "    .dataframe thead th {\n",
       "        text-align: right;\n",
       "    }\n",
       "</style>\n",
       "<table border=\"1\" class=\"dataframe\">\n",
       "  <thead>\n",
       "    <tr style=\"text-align: right;\">\n",
       "      <th></th>\n",
       "      <th>species_id</th>\n",
       "      <th>species_name</th>\n",
       "      <th>sepal_length</th>\n",
       "      <th>sepal_width</th>\n",
       "      <th>petal_length</th>\n",
       "      <th>petal_width</th>\n",
       "    </tr>\n",
       "  </thead>\n",
       "  <tbody>\n",
       "    <tr>\n",
       "      <th>0</th>\n",
       "      <td>1</td>\n",
       "      <td>setosa</td>\n",
       "      <td>5.1</td>\n",
       "      <td>3.5</td>\n",
       "      <td>1.4</td>\n",
       "      <td>0.2</td>\n",
       "    </tr>\n",
       "    <tr>\n",
       "      <th>1</th>\n",
       "      <td>1</td>\n",
       "      <td>setosa</td>\n",
       "      <td>4.9</td>\n",
       "      <td>3.0</td>\n",
       "      <td>1.4</td>\n",
       "      <td>0.2</td>\n",
       "    </tr>\n",
       "    <tr>\n",
       "      <th>2</th>\n",
       "      <td>1</td>\n",
       "      <td>setosa</td>\n",
       "      <td>4.7</td>\n",
       "      <td>3.2</td>\n",
       "      <td>1.3</td>\n",
       "      <td>0.2</td>\n",
       "    </tr>\n",
       "    <tr>\n",
       "      <th>3</th>\n",
       "      <td>1</td>\n",
       "      <td>setosa</td>\n",
       "      <td>4.6</td>\n",
       "      <td>3.1</td>\n",
       "      <td>1.5</td>\n",
       "      <td>0.2</td>\n",
       "    </tr>\n",
       "    <tr>\n",
       "      <th>4</th>\n",
       "      <td>1</td>\n",
       "      <td>setosa</td>\n",
       "      <td>5.0</td>\n",
       "      <td>3.6</td>\n",
       "      <td>1.4</td>\n",
       "      <td>0.2</td>\n",
       "    </tr>\n",
       "  </tbody>\n",
       "</table>\n",
       "</div>"
      ],
      "text/plain": [
       "   species_id species_name  sepal_length  sepal_width  petal_length  \\\n",
       "0           1       setosa           5.1          3.5           1.4   \n",
       "1           1       setosa           4.9          3.0           1.4   \n",
       "2           1       setosa           4.7          3.2           1.3   \n",
       "3           1       setosa           4.6          3.1           1.5   \n",
       "4           1       setosa           5.0          3.6           1.4   \n",
       "\n",
       "   petal_width  \n",
       "0          0.2  \n",
       "1          0.2  \n",
       "2          0.2  \n",
       "3          0.2  \n",
       "4          0.2  "
      ]
     },
     "execution_count": 36,
     "metadata": {},
     "output_type": "execute_result"
    }
   ],
   "source": [
    "# get back original data\n",
    "df = acquire.new_iris_data()\n",
    "df.head()"
   ]
  },
  {
   "cell_type": "markdown",
   "id": "9be81e3f",
   "metadata": {},
   "source": [
    "# 5. Create a function named prep_iris that accepts the untransformed iris data, and returns the data with the transformations above applied."
   ]
  },
  {
   "cell_type": "code",
   "execution_count": 37,
   "id": "c243678c",
   "metadata": {},
   "outputs": [],
   "source": [
    "def prep_iris(df):\n",
    "    '''Prepares acquired Iris data for exploration'''\n",
    "    \n",
    "    # drop column using .drop(columns=column_name)\n",
    "    df = df.drop(columns='species_id')\n",
    "    \n",
    "    # remame column using .rename(columns={current_column_name : replacement_column_name})\n",
    "    df = df.rename(columns={'species_name':'species'})\n",
    "    \n",
    "    # create dummies dataframe using .get_dummies(column_name,not dropping any of the dummy columns)\n",
    "    dummy_df = pd.get_dummies(df['species'], drop_first=False)\n",
    "    \n",
    "    # join original df with dummies df using .concat([original_df,dummy_df], join along the index)\n",
    "    df = pd.concat([df, dummy_df], axis=1)\n",
    "    \n",
    "    return df"
   ]
  },
  {
   "cell_type": "code",
   "execution_count": 38,
   "id": "1752aac4",
   "metadata": {},
   "outputs": [
    {
     "data": {
      "text/html": [
       "<div>\n",
       "<style scoped>\n",
       "    .dataframe tbody tr th:only-of-type {\n",
       "        vertical-align: middle;\n",
       "    }\n",
       "\n",
       "    .dataframe tbody tr th {\n",
       "        vertical-align: top;\n",
       "    }\n",
       "\n",
       "    .dataframe thead th {\n",
       "        text-align: right;\n",
       "    }\n",
       "</style>\n",
       "<table border=\"1\" class=\"dataframe\">\n",
       "  <thead>\n",
       "    <tr style=\"text-align: right;\">\n",
       "      <th></th>\n",
       "      <th>species</th>\n",
       "      <th>sepal_length</th>\n",
       "      <th>sepal_width</th>\n",
       "      <th>petal_length</th>\n",
       "      <th>petal_width</th>\n",
       "      <th>setosa</th>\n",
       "      <th>versicolor</th>\n",
       "      <th>virginica</th>\n",
       "    </tr>\n",
       "  </thead>\n",
       "  <tbody>\n",
       "    <tr>\n",
       "      <th>0</th>\n",
       "      <td>setosa</td>\n",
       "      <td>5.1</td>\n",
       "      <td>3.5</td>\n",
       "      <td>1.4</td>\n",
       "      <td>0.2</td>\n",
       "      <td>1</td>\n",
       "      <td>0</td>\n",
       "      <td>0</td>\n",
       "    </tr>\n",
       "    <tr>\n",
       "      <th>1</th>\n",
       "      <td>setosa</td>\n",
       "      <td>4.9</td>\n",
       "      <td>3.0</td>\n",
       "      <td>1.4</td>\n",
       "      <td>0.2</td>\n",
       "      <td>1</td>\n",
       "      <td>0</td>\n",
       "      <td>0</td>\n",
       "    </tr>\n",
       "    <tr>\n",
       "      <th>2</th>\n",
       "      <td>setosa</td>\n",
       "      <td>4.7</td>\n",
       "      <td>3.2</td>\n",
       "      <td>1.3</td>\n",
       "      <td>0.2</td>\n",
       "      <td>1</td>\n",
       "      <td>0</td>\n",
       "      <td>0</td>\n",
       "    </tr>\n",
       "    <tr>\n",
       "      <th>3</th>\n",
       "      <td>setosa</td>\n",
       "      <td>4.6</td>\n",
       "      <td>3.1</td>\n",
       "      <td>1.5</td>\n",
       "      <td>0.2</td>\n",
       "      <td>1</td>\n",
       "      <td>0</td>\n",
       "      <td>0</td>\n",
       "    </tr>\n",
       "    <tr>\n",
       "      <th>4</th>\n",
       "      <td>setosa</td>\n",
       "      <td>5.0</td>\n",
       "      <td>3.6</td>\n",
       "      <td>1.4</td>\n",
       "      <td>0.2</td>\n",
       "      <td>1</td>\n",
       "      <td>0</td>\n",
       "      <td>0</td>\n",
       "    </tr>\n",
       "  </tbody>\n",
       "</table>\n",
       "</div>"
      ],
      "text/plain": [
       "  species  sepal_length  sepal_width  petal_length  petal_width  setosa  \\\n",
       "0  setosa           5.1          3.5           1.4          0.2       1   \n",
       "1  setosa           4.9          3.0           1.4          0.2       1   \n",
       "2  setosa           4.7          3.2           1.3          0.2       1   \n",
       "3  setosa           4.6          3.1           1.5          0.2       1   \n",
       "4  setosa           5.0          3.6           1.4          0.2       1   \n",
       "\n",
       "   versicolor  virginica  \n",
       "0           0          0  \n",
       "1           0          0  \n",
       "2           0          0  \n",
       "3           0          0  \n",
       "4           0          0  "
      ]
     },
     "execution_count": 38,
     "metadata": {},
     "output_type": "execute_result"
    }
   ],
   "source": [
    "prep_iris(df).head()"
   ]
  },
  {
   "cell_type": "code",
   "execution_count": 39,
   "id": "f95ee4a4",
   "metadata": {},
   "outputs": [
    {
     "data": {
      "text/html": [
       "<div>\n",
       "<style scoped>\n",
       "    .dataframe tbody tr th:only-of-type {\n",
       "        vertical-align: middle;\n",
       "    }\n",
       "\n",
       "    .dataframe tbody tr th {\n",
       "        vertical-align: top;\n",
       "    }\n",
       "\n",
       "    .dataframe thead th {\n",
       "        text-align: right;\n",
       "    }\n",
       "</style>\n",
       "<table border=\"1\" class=\"dataframe\">\n",
       "  <thead>\n",
       "    <tr style=\"text-align: right;\">\n",
       "      <th></th>\n",
       "      <th>species_id</th>\n",
       "      <th>species_name</th>\n",
       "      <th>sepal_length</th>\n",
       "      <th>sepal_width</th>\n",
       "      <th>petal_length</th>\n",
       "      <th>petal_width</th>\n",
       "    </tr>\n",
       "  </thead>\n",
       "  <tbody>\n",
       "    <tr>\n",
       "      <th>0</th>\n",
       "      <td>1</td>\n",
       "      <td>setosa</td>\n",
       "      <td>5.1</td>\n",
       "      <td>3.5</td>\n",
       "      <td>1.4</td>\n",
       "      <td>0.2</td>\n",
       "    </tr>\n",
       "    <tr>\n",
       "      <th>1</th>\n",
       "      <td>1</td>\n",
       "      <td>setosa</td>\n",
       "      <td>4.9</td>\n",
       "      <td>3.0</td>\n",
       "      <td>1.4</td>\n",
       "      <td>0.2</td>\n",
       "    </tr>\n",
       "    <tr>\n",
       "      <th>2</th>\n",
       "      <td>1</td>\n",
       "      <td>setosa</td>\n",
       "      <td>4.7</td>\n",
       "      <td>3.2</td>\n",
       "      <td>1.3</td>\n",
       "      <td>0.2</td>\n",
       "    </tr>\n",
       "    <tr>\n",
       "      <th>3</th>\n",
       "      <td>1</td>\n",
       "      <td>setosa</td>\n",
       "      <td>4.6</td>\n",
       "      <td>3.1</td>\n",
       "      <td>1.5</td>\n",
       "      <td>0.2</td>\n",
       "    </tr>\n",
       "    <tr>\n",
       "      <th>4</th>\n",
       "      <td>1</td>\n",
       "      <td>setosa</td>\n",
       "      <td>5.0</td>\n",
       "      <td>3.6</td>\n",
       "      <td>1.4</td>\n",
       "      <td>0.2</td>\n",
       "    </tr>\n",
       "  </tbody>\n",
       "</table>\n",
       "</div>"
      ],
      "text/plain": [
       "   species_id species_name  sepal_length  sepal_width  petal_length  \\\n",
       "0           1       setosa           5.1          3.5           1.4   \n",
       "1           1       setosa           4.9          3.0           1.4   \n",
       "2           1       setosa           4.7          3.2           1.3   \n",
       "3           1       setosa           4.6          3.1           1.5   \n",
       "4           1       setosa           5.0          3.6           1.4   \n",
       "\n",
       "   petal_width  \n",
       "0          0.2  \n",
       "1          0.2  \n",
       "2          0.2  \n",
       "3          0.2  \n",
       "4          0.2  "
      ]
     },
     "execution_count": 39,
     "metadata": {},
     "output_type": "execute_result"
    }
   ],
   "source": [
    "# get back original data\n",
    "df = acquire.new_iris_data()\n",
    "df.head()"
   ]
  },
  {
   "cell_type": "markdown",
   "id": "2139f77e",
   "metadata": {},
   "source": [
    "# Section 1 - iris_db: Using iris data from our mySQL server and the methods used in the lesson above: August 17-2021\n",
    "\n",
    "Acquire, prepare & split your data. "
   ]
  },
  {
   "cell_type": "code",
   "execution_count": 85,
   "id": "7649ebb8",
   "metadata": {},
   "outputs": [],
   "source": [
    "from env import host, user, password"
   ]
  },
  {
   "cell_type": "code",
   "execution_count": 86,
   "id": "f62765b6",
   "metadata": {},
   "outputs": [],
   "source": [
    "# Acquire data\n",
    "#df = acquire.new_iris_data()\n",
    "\n",
    "def get_connection(db, user=user, host=host, password=password):\n",
    "    return f'mysql+pymysql://{user}:{password}@{host}/{db}'\n",
    "\n",
    "# query to acquire the iris data\n",
    "query = \"SELECT measurements.measurement_id, measurements.sepal_length,\\\n",
    "                measurements.sepal_width, measurements.petal_length, \\\n",
    "                measurements.petal_width, species.species_name, species.species_id \\\n",
    "            FROM measurements JOIN species ON(species.species_id=measurements.species_id)\"\n",
    "\n",
    "# function to get the data and run the query\n",
    "def get_data():\n",
    "    return pd.read_sql(query,get_connection('iris_db'))\n",
    "\n",
    "# acquire the data\n",
    "df = get_data()"
   ]
  },
  {
   "cell_type": "code",
   "execution_count": 87,
   "id": "60b68686",
   "metadata": {},
   "outputs": [
    {
     "data": {
      "text/html": [
       "<div>\n",
       "<style scoped>\n",
       "    .dataframe tbody tr th:only-of-type {\n",
       "        vertical-align: middle;\n",
       "    }\n",
       "\n",
       "    .dataframe tbody tr th {\n",
       "        vertical-align: top;\n",
       "    }\n",
       "\n",
       "    .dataframe thead th {\n",
       "        text-align: right;\n",
       "    }\n",
       "</style>\n",
       "<table border=\"1\" class=\"dataframe\">\n",
       "  <thead>\n",
       "    <tr style=\"text-align: right;\">\n",
       "      <th></th>\n",
       "      <th>measurement_id</th>\n",
       "      <th>sepal_length</th>\n",
       "      <th>sepal_width</th>\n",
       "      <th>petal_length</th>\n",
       "      <th>petal_width</th>\n",
       "      <th>species_name</th>\n",
       "      <th>species_id</th>\n",
       "    </tr>\n",
       "  </thead>\n",
       "  <tbody>\n",
       "    <tr>\n",
       "      <th>0</th>\n",
       "      <td>1</td>\n",
       "      <td>5.1</td>\n",
       "      <td>3.5</td>\n",
       "      <td>1.4</td>\n",
       "      <td>0.2</td>\n",
       "      <td>setosa</td>\n",
       "      <td>1</td>\n",
       "    </tr>\n",
       "    <tr>\n",
       "      <th>1</th>\n",
       "      <td>2</td>\n",
       "      <td>4.9</td>\n",
       "      <td>3.0</td>\n",
       "      <td>1.4</td>\n",
       "      <td>0.2</td>\n",
       "      <td>setosa</td>\n",
       "      <td>1</td>\n",
       "    </tr>\n",
       "    <tr>\n",
       "      <th>2</th>\n",
       "      <td>3</td>\n",
       "      <td>4.7</td>\n",
       "      <td>3.2</td>\n",
       "      <td>1.3</td>\n",
       "      <td>0.2</td>\n",
       "      <td>setosa</td>\n",
       "      <td>1</td>\n",
       "    </tr>\n",
       "    <tr>\n",
       "      <th>3</th>\n",
       "      <td>4</td>\n",
       "      <td>4.6</td>\n",
       "      <td>3.1</td>\n",
       "      <td>1.5</td>\n",
       "      <td>0.2</td>\n",
       "      <td>setosa</td>\n",
       "      <td>1</td>\n",
       "    </tr>\n",
       "    <tr>\n",
       "      <th>4</th>\n",
       "      <td>5</td>\n",
       "      <td>5.0</td>\n",
       "      <td>3.6</td>\n",
       "      <td>1.4</td>\n",
       "      <td>0.2</td>\n",
       "      <td>setosa</td>\n",
       "      <td>1</td>\n",
       "    </tr>\n",
       "  </tbody>\n",
       "</table>\n",
       "</div>"
      ],
      "text/plain": [
       "   measurement_id  sepal_length  sepal_width  petal_length  petal_width  \\\n",
       "0               1           5.1          3.5           1.4          0.2   \n",
       "1               2           4.9          3.0           1.4          0.2   \n",
       "2               3           4.7          3.2           1.3          0.2   \n",
       "3               4           4.6          3.1           1.5          0.2   \n",
       "4               5           5.0          3.6           1.4          0.2   \n",
       "\n",
       "  species_name  species_id  \n",
       "0       setosa           1  \n",
       "1       setosa           1  \n",
       "2       setosa           1  \n",
       "3       setosa           1  \n",
       "4       setosa           1  "
      ]
     },
     "execution_count": 87,
     "metadata": {},
     "output_type": "execute_result"
    }
   ],
   "source": [
    "df.head()"
   ]
  },
  {
   "cell_type": "code",
   "execution_count": 88,
   "id": "29980f68",
   "metadata": {},
   "outputs": [],
   "source": [
    "def prep_iris_inline(df):\n",
    "    df = df.rename(columns={'species_name': 'species'})\n",
    "    df = df.drop(columns=['measurement_id', 'species_id'])\n",
    "    return df"
   ]
  },
  {
   "cell_type": "code",
   "execution_count": 89,
   "id": "6dbf56d3",
   "metadata": {},
   "outputs": [],
   "source": [
    "df = prep_iris_inline(df)"
   ]
  },
  {
   "cell_type": "code",
   "execution_count": 90,
   "id": "d4c6818c",
   "metadata": {},
   "outputs": [
    {
     "data": {
      "text/html": [
       "<div>\n",
       "<style scoped>\n",
       "    .dataframe tbody tr th:only-of-type {\n",
       "        vertical-align: middle;\n",
       "    }\n",
       "\n",
       "    .dataframe tbody tr th {\n",
       "        vertical-align: top;\n",
       "    }\n",
       "\n",
       "    .dataframe thead th {\n",
       "        text-align: right;\n",
       "    }\n",
       "</style>\n",
       "<table border=\"1\" class=\"dataframe\">\n",
       "  <thead>\n",
       "    <tr style=\"text-align: right;\">\n",
       "      <th></th>\n",
       "      <th>sepal_length</th>\n",
       "      <th>sepal_width</th>\n",
       "      <th>petal_length</th>\n",
       "      <th>petal_width</th>\n",
       "      <th>species</th>\n",
       "    </tr>\n",
       "  </thead>\n",
       "  <tbody>\n",
       "    <tr>\n",
       "      <th>0</th>\n",
       "      <td>5.1</td>\n",
       "      <td>3.5</td>\n",
       "      <td>1.4</td>\n",
       "      <td>0.2</td>\n",
       "      <td>setosa</td>\n",
       "    </tr>\n",
       "    <tr>\n",
       "      <th>1</th>\n",
       "      <td>4.9</td>\n",
       "      <td>3.0</td>\n",
       "      <td>1.4</td>\n",
       "      <td>0.2</td>\n",
       "      <td>setosa</td>\n",
       "    </tr>\n",
       "    <tr>\n",
       "      <th>2</th>\n",
       "      <td>4.7</td>\n",
       "      <td>3.2</td>\n",
       "      <td>1.3</td>\n",
       "      <td>0.2</td>\n",
       "      <td>setosa</td>\n",
       "    </tr>\n",
       "    <tr>\n",
       "      <th>3</th>\n",
       "      <td>4.6</td>\n",
       "      <td>3.1</td>\n",
       "      <td>1.5</td>\n",
       "      <td>0.2</td>\n",
       "      <td>setosa</td>\n",
       "    </tr>\n",
       "    <tr>\n",
       "      <th>4</th>\n",
       "      <td>5.0</td>\n",
       "      <td>3.6</td>\n",
       "      <td>1.4</td>\n",
       "      <td>0.2</td>\n",
       "      <td>setosa</td>\n",
       "    </tr>\n",
       "  </tbody>\n",
       "</table>\n",
       "</div>"
      ],
      "text/plain": [
       "   sepal_length  sepal_width  petal_length  petal_width species\n",
       "0           5.1          3.5           1.4          0.2  setosa\n",
       "1           4.9          3.0           1.4          0.2  setosa\n",
       "2           4.7          3.2           1.3          0.2  setosa\n",
       "3           4.6          3.1           1.5          0.2  setosa\n",
       "4           5.0          3.6           1.4          0.2  setosa"
      ]
     },
     "execution_count": 90,
     "metadata": {},
     "output_type": "execute_result"
    }
   ],
   "source": [
    "df.head()"
   ]
  },
  {
   "cell_type": "code",
   "execution_count": 91,
   "id": "5dffa270",
   "metadata": {},
   "outputs": [
    {
     "name": "stdout",
     "output_type": "stream",
     "text": [
      "<class 'pandas.core.frame.DataFrame'>\n",
      "RangeIndex: 150 entries, 0 to 149\n",
      "Data columns (total 5 columns):\n",
      " #   Column        Non-Null Count  Dtype  \n",
      "---  ------        --------------  -----  \n",
      " 0   sepal_length  150 non-null    float64\n",
      " 1   sepal_width   150 non-null    float64\n",
      " 2   petal_length  150 non-null    float64\n",
      " 3   petal_width   150 non-null    float64\n",
      " 4   species       150 non-null    object \n",
      "dtypes: float64(4), object(1)\n",
      "memory usage: 6.0+ KB\n"
     ]
    }
   ],
   "source": [
    "df.info()"
   ]
  },
  {
   "cell_type": "code",
   "execution_count": 92,
   "id": "a4701a4a",
   "metadata": {},
   "outputs": [],
   "source": [
    "# 80/20 train test split\n",
    "train, test = train_test_split(df, train_size=0.8, random_state=1349, stratify=df.species)\n",
    "# 70/30 train validate split\n",
    "train, validate = train_test_split(train, train_size=0.7, random_state=1349, stratify=train.species)"
   ]
  },
  {
   "cell_type": "code",
   "execution_count": 94,
   "id": "06bc5e5b",
   "metadata": {},
   "outputs": [
    {
     "name": "stdout",
     "output_type": "stream",
     "text": [
      "train:(84, 5) validate:(36, 5) test:(30, 5)\n"
     ]
    }
   ],
   "source": [
    "print(f'train:{train.shape} validate:{validate.shape} test:{test.shape}')"
   ]
  },
  {
   "cell_type": "markdown",
   "id": "1fef4d89",
   "metadata": {},
   "source": [
    "# 2. Univariate Stats\n",
    "\n",
    "For each measurement type (quantitative variable): create a histogram, boxplot, & compute descriptive statistics (using .describe()).\n",
    "\n",
    "For each species (categorical variable): create a frequency table and a bar plot of those frequencies.\n",
    "\n",
    "Document takeaways & any actions."
   ]
  },
  {
   "cell_type": "code",
   "execution_count": 95,
   "id": "c9b0ca7d",
   "metadata": {},
   "outputs": [],
   "source": [
    "cat_vars = ['species']\n",
    "#cat_vars = ['setosa', 'versicolor', 'virginica']\n",
    "quant_vars = ['sepal_length', 'sepal_width', 'petal_length', 'petal_width']"
   ]
  },
  {
   "cell_type": "code",
   "execution_count": 96,
   "id": "b235d3a9",
   "metadata": {},
   "outputs": [
    {
     "data": {
      "image/png": "[encoded data removed]",
      "text/plain": [
       "<Figure size 144x144 with 1 Axes>"
      ]
     },
     "metadata": {
      "needs_background": "light"
     },
     "output_type": "display_data"
    },
    {
     "name": "stdout",
     "output_type": "stream",
     "text": [
      "               species  Count  Percent\n",
      "virginica    virginica     28    33.33\n",
      "setosa          setosa     28    33.33\n",
      "versicolor  versicolor     28    33.33\n",
      "_________________________________________________________________\n"
     ]
    },
    {
     "data": {
      "image/png": "[encoded data removed]",
      "text/plain": [
       "<Figure size 576x144 with 2 Axes>"
      ]
     },
     "metadata": {
      "needs_background": "light"
     },
     "output_type": "display_data"
    },
    {
     "name": "stdout",
     "output_type": "stream",
     "text": [
      "count    84.000000\n",
      "mean      5.847619\n",
      "std       0.841324\n",
      "min       4.300000\n",
      "25%       5.075000\n",
      "50%       5.900000\n",
      "75%       6.425000\n",
      "max       7.700000\n",
      "Name: sepal_length, dtype: float64\n"
     ]
    },
    {
     "data": {
      "image/png": "[encoded data removed]",
      "text/plain": [
       "<Figure size 576x144 with 2 Axes>"
      ]
     },
     "metadata": {
      "needs_background": "light"
     },
     "output_type": "display_data"
    },
    {
     "name": "stdout",
     "output_type": "stream",
     "text": [
      "count    84.000000\n",
      "mean      3.053571\n",
      "std       0.417233\n",
      "min       2.000000\n",
      "25%       2.800000\n",
      "50%       3.000000\n",
      "75%       3.300000\n",
      "max       4.400000\n",
      "Name: sepal_width, dtype: float64\n"
     ]
    },
    {
     "data": {
      "image/png": "[encoded data removed]",
      "text/plain": [
       "<Figure size 576x144 with 2 Axes>"
      ]
     },
     "metadata": {
      "needs_background": "light"
     },
     "output_type": "display_data"
    },
    {
     "name": "stdout",
     "output_type": "stream",
     "text": [
      "count    84.000000\n",
      "mean      3.738095\n",
      "std       1.765459\n",
      "min       1.000000\n",
      "25%       1.600000\n",
      "50%       4.300000\n",
      "75%       5.100000\n",
      "max       6.900000\n",
      "Name: petal_length, dtype: float64\n"
     ]
    },
    {
     "data": {
      "image/png": "[encoded data removed]",
      "text/plain": [
       "<Figure size 576x144 with 2 Axes>"
      ]
     },
     "metadata": {
      "needs_background": "light"
     },
     "output_type": "display_data"
    },
    {
     "name": "stdout",
     "output_type": "stream",
     "text": [
      "count    84.000000\n",
      "mean      1.208333\n",
      "std       0.775717\n",
      "min       0.100000\n",
      "25%       0.375000\n",
      "50%       1.300000\n",
      "75%       1.800000\n",
      "max       2.500000\n",
      "Name: petal_width, dtype: float64\n"
     ]
    }
   ],
   "source": [
    "explore.explore_univariate(train, cat_vars, quant_vars)"
   ]
  },
  {
   "cell_type": "code",
   "execution_count": 97,
   "id": "2c4c3694",
   "metadata": {},
   "outputs": [
    {
     "data": {
      "text/html": [
       "<div>\n",
       "<style scoped>\n",
       "    .dataframe tbody tr th:only-of-type {\n",
       "        vertical-align: middle;\n",
       "    }\n",
       "\n",
       "    .dataframe tbody tr th {\n",
       "        vertical-align: top;\n",
       "    }\n",
       "\n",
       "    .dataframe thead th {\n",
       "        text-align: right;\n",
       "    }\n",
       "</style>\n",
       "<table border=\"1\" class=\"dataframe\">\n",
       "  <thead>\n",
       "    <tr style=\"text-align: right;\">\n",
       "      <th></th>\n",
       "      <th>sepal_length</th>\n",
       "      <th>sepal_width</th>\n",
       "      <th>petal_length</th>\n",
       "      <th>petal_width</th>\n",
       "    </tr>\n",
       "  </thead>\n",
       "  <tbody>\n",
       "    <tr>\n",
       "      <th>count</th>\n",
       "      <td>84.000000</td>\n",
       "      <td>84.000000</td>\n",
       "      <td>84.000000</td>\n",
       "      <td>84.000000</td>\n",
       "    </tr>\n",
       "    <tr>\n",
       "      <th>mean</th>\n",
       "      <td>5.847619</td>\n",
       "      <td>3.053571</td>\n",
       "      <td>3.738095</td>\n",
       "      <td>1.208333</td>\n",
       "    </tr>\n",
       "    <tr>\n",
       "      <th>std</th>\n",
       "      <td>0.841324</td>\n",
       "      <td>0.417233</td>\n",
       "      <td>1.765459</td>\n",
       "      <td>0.775717</td>\n",
       "    </tr>\n",
       "    <tr>\n",
       "      <th>min</th>\n",
       "      <td>4.300000</td>\n",
       "      <td>2.000000</td>\n",
       "      <td>1.000000</td>\n",
       "      <td>0.100000</td>\n",
       "    </tr>\n",
       "    <tr>\n",
       "      <th>25%</th>\n",
       "      <td>5.075000</td>\n",
       "      <td>2.800000</td>\n",
       "      <td>1.600000</td>\n",
       "      <td>0.375000</td>\n",
       "    </tr>\n",
       "    <tr>\n",
       "      <th>50%</th>\n",
       "      <td>5.900000</td>\n",
       "      <td>3.000000</td>\n",
       "      <td>4.300000</td>\n",
       "      <td>1.300000</td>\n",
       "    </tr>\n",
       "    <tr>\n",
       "      <th>75%</th>\n",
       "      <td>6.425000</td>\n",
       "      <td>3.300000</td>\n",
       "      <td>5.100000</td>\n",
       "      <td>1.800000</td>\n",
       "    </tr>\n",
       "    <tr>\n",
       "      <th>max</th>\n",
       "      <td>7.700000</td>\n",
       "      <td>4.400000</td>\n",
       "      <td>6.900000</td>\n",
       "      <td>2.500000</td>\n",
       "    </tr>\n",
       "  </tbody>\n",
       "</table>\n",
       "</div>"
      ],
      "text/plain": [
       "       sepal_length  sepal_width  petal_length  petal_width\n",
       "count     84.000000    84.000000     84.000000    84.000000\n",
       "mean       5.847619     3.053571      3.738095     1.208333\n",
       "std        0.841324     0.417233      1.765459     0.775717\n",
       "min        4.300000     2.000000      1.000000     0.100000\n",
       "25%        5.075000     2.800000      1.600000     0.375000\n",
       "50%        5.900000     3.000000      4.300000     1.300000\n",
       "75%        6.425000     3.300000      5.100000     1.800000\n",
       "max        7.700000     4.400000      6.900000     2.500000"
      ]
     },
     "execution_count": 97,
     "metadata": {},
     "output_type": "execute_result"
    }
   ],
   "source": [
    "train.describe()"
   ]
  },
  {
   "cell_type": "code",
   "execution_count": 98,
   "id": "f554dc39",
   "metadata": {},
   "outputs": [
    {
     "data": {
      "text/plain": [
       "sepal_length  sepal_width  petal_length  petal_width  species   \n",
       "4.3           3.0          1.1           0.1          setosa        1\n",
       "6.3           2.3          4.4           1.3          versicolor    1\n",
       "6.4           2.9          4.3           1.3          versicolor    1\n",
       "              2.7          5.3           1.9          virginica     1\n",
       "6.3           3.4          5.6           2.4          virginica     1\n",
       "dtype: int64"
      ]
     },
     "execution_count": 98,
     "metadata": {},
     "output_type": "execute_result"
    }
   ],
   "source": [
    "#For each species (categorical variable): create a frequency table and a bar plot \n",
    "    # of those frequencies.\n",
    "    \n",
    "train.value_counts().head()"
   ]
  },
  {
   "cell_type": "code",
   "execution_count": 99,
   "id": "265486d6",
   "metadata": {},
   "outputs": [
    {
     "data": {
      "text/html": [
       "<div>\n",
       "<style scoped>\n",
       "    .dataframe tbody tr th:only-of-type {\n",
       "        vertical-align: middle;\n",
       "    }\n",
       "\n",
       "    .dataframe tbody tr th {\n",
       "        vertical-align: top;\n",
       "    }\n",
       "\n",
       "    .dataframe thead th {\n",
       "        text-align: right;\n",
       "    }\n",
       "</style>\n",
       "<table border=\"1\" class=\"dataframe\">\n",
       "  <thead>\n",
       "    <tr style=\"text-align: right;\">\n",
       "      <th></th>\n",
       "      <th>sepal_length</th>\n",
       "      <th>sepal_width</th>\n",
       "      <th>petal_length</th>\n",
       "      <th>petal_width</th>\n",
       "    </tr>\n",
       "  </thead>\n",
       "  <tbody>\n",
       "    <tr>\n",
       "      <th>sepal_length</th>\n",
       "      <td>1.000000</td>\n",
       "      <td>-0.166612</td>\n",
       "      <td>0.900357</td>\n",
       "      <td>0.860775</td>\n",
       "    </tr>\n",
       "    <tr>\n",
       "      <th>sepal_width</th>\n",
       "      <td>-0.166612</td>\n",
       "      <td>1.000000</td>\n",
       "      <td>-0.415310</td>\n",
       "      <td>-0.323396</td>\n",
       "    </tr>\n",
       "    <tr>\n",
       "      <th>petal_length</th>\n",
       "      <td>0.900357</td>\n",
       "      <td>-0.415310</td>\n",
       "      <td>1.000000</td>\n",
       "      <td>0.965383</td>\n",
       "    </tr>\n",
       "    <tr>\n",
       "      <th>petal_width</th>\n",
       "      <td>0.860775</td>\n",
       "      <td>-0.323396</td>\n",
       "      <td>0.965383</td>\n",
       "      <td>1.000000</td>\n",
       "    </tr>\n",
       "  </tbody>\n",
       "</table>\n",
       "</div>"
      ],
      "text/plain": [
       "              sepal_length  sepal_width  petal_length  petal_width\n",
       "sepal_length      1.000000    -0.166612      0.900357     0.860775\n",
       "sepal_width      -0.166612     1.000000     -0.415310    -0.323396\n",
       "petal_length      0.900357    -0.415310      1.000000     0.965383\n",
       "petal_width       0.860775    -0.323396      0.965383     1.000000"
      ]
     },
     "execution_count": 99,
     "metadata": {},
     "output_type": "execute_result"
    }
   ],
   "source": [
    "train.corr()"
   ]
  },
  {
   "cell_type": "code",
   "execution_count": 56,
   "id": "6b101d30",
   "metadata": {},
   "outputs": [
    {
     "data": {
      "text/plain": [
       "<AxesSubplot:xlabel='species'>"
      ]
     },
     "execution_count": 56,
     "metadata": {},
     "output_type": "execute_result"
    },
    {
     "data": {
      "image/png": "[encoded data removed]",
      "text/plain": [
       "<Figure size 432x288 with 1 Axes>"
      ]
     },
     "metadata": {
      "needs_background": "light"
     },
     "output_type": "display_data"
    }
   ],
   "source": [
    "sns.barplot(x=train.species, y=train.index)"
   ]
  },
  {
   "cell_type": "code",
   "execution_count": 100,
   "id": "6aef70e6",
   "metadata": {},
   "outputs": [
    {
     "data": {
      "image/png": "[encoded data removed]",
      "text/plain": [
       "<Figure size 444.75x360 with 1 Axes>"
      ]
     },
     "metadata": {
      "needs_background": "light"
     },
     "output_type": "display_data"
    }
   ],
   "source": [
    "sns.relplot(x='petal_length', y='petal_width', data=train, hue='species', palette='Set2')\n",
    "plt.legend()\n",
    "plt.show()"
   ]
  },
  {
   "cell_type": "code",
   "execution_count": 58,
   "id": "6da73bbc",
   "metadata": {},
   "outputs": [],
   "source": [
    "# petal lenght and with of the virginica is more than the setosa."
   ]
  },
  {
   "cell_type": "markdown",
   "id": "37515dc9",
   "metadata": {},
   "source": [
    "# 3. Bivariate Stats\n",
    "\n",
    "Visualize each measurement type (y-axis) with the species variable (x-axis) using barplots, adding a horizontal line showing the overall mean of the metric (y-axis).\n",
    "\n",
    "For each measurement type, compute the descriptive statistics for each species.\n",
    "\n",
    "For virginica & versicolor: Compare the mean petal_width using the Mann-Whitney test (scipy.stats.mannwhitneyu) to see if there is a significant difference between the two groups. Do the same for the other measurement types.\n",
    "\n",
    "Document takeaways & any actions."
   ]
  },
  {
   "cell_type": "code",
   "execution_count": 102,
   "id": "2535b72c",
   "metadata": {},
   "outputs": [
    {
     "name": "stdout",
     "output_type": "stream",
     "text": [
      "['species']\n",
      "['sepal_length', 'sepal_width', 'petal_length', 'petal_width']\n"
     ]
    }
   ],
   "source": [
    "print(cat_vars)\n",
    "print(quant_vars)"
   ]
  },
  {
   "cell_type": "code",
   "execution_count": 103,
   "id": "c066de31",
   "metadata": {},
   "outputs": [
    {
     "name": "stdout",
     "output_type": "stream",
     "text": [
      "sepal_length \n",
      "____________________\n",
      "\n"
     ]
    },
    {
     "data": {
      "image/png": "[encoded data removed]",
      "text/plain": [
       "<Figure size 288x288 with 1 Axes>"
      ]
     },
     "metadata": {
      "needs_background": "light"
     },
     "output_type": "display_data"
    },
    {
     "name": "stdout",
     "output_type": "stream",
     "text": [
      "            count      mean       std  min    25%  50%  75%  max\n",
      "species                                                         \n",
      "setosa       28.0  4.957143  0.362531  4.3  4.775  5.0  5.1  5.8\n",
      "versicolor   28.0  5.935714  0.512231  5.0  5.600  6.0  6.3  6.9\n",
      "virginica    28.0  6.650000  0.532986  5.8  6.300  6.6  6.9  7.7 \n",
      "\n",
      "\n",
      "Mann-Whitney Test:\n",
      " MannwhitneyuResult(statistic=0.0, pvalue=0.0)\n",
      "\n",
      "____________________\n",
      "\n",
      "sepal_width \n",
      "____________________\n",
      "\n"
     ]
    },
    {
     "data": {
      "image/png": "[encoded data removed]",
      "text/plain": [
       "<Figure size 288x288 with 1 Axes>"
      ]
     },
     "metadata": {
      "needs_background": "light"
     },
     "output_type": "display_data"
    },
    {
     "name": "stdout",
     "output_type": "stream",
     "text": [
      "            count      mean       std  min  25%   50%    75%  max\n",
      "species                                                          \n",
      "setosa       28.0  3.385714  0.433516  2.3  3.1  3.35  3.625  4.4\n",
      "versicolor   28.0  2.800000  0.303071  2.0  2.7  2.90  3.000  3.4\n",
      "virginica    28.0  2.975000  0.260519  2.2  2.8  3.00  3.200  3.4 \n",
      "\n",
      "\n",
      "Mann-Whitney Test:\n",
      " MannwhitneyuResult(statistic=0.0, pvalue=0.0)\n",
      "\n",
      "____________________\n",
      "\n",
      "petal_length \n",
      "____________________\n",
      "\n"
     ]
    },
    {
     "data": {
      "image/png": "[encoded data removed]",
      "text/plain": [
       "<Figure size 288x288 with 1 Axes>"
      ]
     },
     "metadata": {
      "needs_background": "light"
     },
     "output_type": "display_data"
    },
    {
     "name": "stdout",
     "output_type": "stream",
     "text": [
      "            count      mean       std  min  25%   50%    75%  max\n",
      "species                                                          \n",
      "setosa       28.0  1.457143  0.185450  1.0  1.4  1.50  1.600  1.9\n",
      "versicolor   28.0  4.217857  0.522142  3.0  3.9  4.30  4.600  5.1\n",
      "virginica    28.0  5.539286  0.525173  4.8  5.1  5.55  5.825  6.9 \n",
      "\n",
      "\n",
      "Mann-Whitney Test:\n",
      " MannwhitneyuResult(statistic=0.0, pvalue=0.0)\n",
      "\n",
      "____________________\n",
      "\n",
      "petal_width \n",
      "____________________\n",
      "\n"
     ]
    },
    {
     "data": {
      "image/png": "[encoded data removed]",
      "text/plain": [
       "<Figure size 288x288 with 1 Axes>"
      ]
     },
     "metadata": {
      "needs_background": "light"
     },
     "output_type": "display_data"
    },
    {
     "name": "stdout",
     "output_type": "stream",
     "text": [
      "            count      mean       std  min    25%   50%    75%  max\n",
      "species                                                            \n",
      "setosa       28.0  0.246429  0.129048  0.1  0.200  0.20  0.325  0.6\n",
      "versicolor   28.0  1.332143  0.205577  1.0  1.275  1.30  1.500  1.7\n",
      "virginica    28.0  2.046429  0.294998  1.5  1.800  2.05  2.300  2.5 \n",
      "\n",
      "\n",
      "Mann-Whitney Test:\n",
      " MannwhitneyuResult(statistic=0.0, pvalue=0.0)\n",
      "\n",
      "____________________\n",
      "\n"
     ]
    }
   ],
   "source": [
    "cat_vars = cat_vars[1:]\n",
    "explore.explore_bivariate(train, 'species', cat_vars, quant_vars)"
   ]
  },
  {
   "cell_type": "code",
   "execution_count": 104,
   "id": "4b435bff",
   "metadata": {},
   "outputs": [
    {
     "data": {
      "image/png": "[encoded data removed]",
      "text/plain": [
       "<Figure size 432x288 with 1 Axes>"
      ]
     },
     "metadata": {
      "needs_background": "light"
     },
     "output_type": "display_data"
    }
   ],
   "source": [
    "sns.barplot(data=train, x='species', y='sepal_length')\n",
    "plt.axhline(y=train.sepal_length.mean())\n",
    "plt.title('Sepal Length by Species Type')\n",
    "plt.show()"
   ]
  },
  {
   "cell_type": "code",
   "execution_count": 105,
   "id": "6b50f4de",
   "metadata": {},
   "outputs": [
    {
     "data": {
      "image/png": "[encoded data removed]",
      "text/plain": [
       "<Figure size 432x288 with 1 Axes>"
      ]
     },
     "metadata": {
      "needs_background": "light"
     },
     "output_type": "display_data"
    }
   ],
   "source": [
    "sns.barplot(data=train, x='species', y='sepal_width')\n",
    "plt.axhline(y=train.sepal_width.mean())\n",
    "plt.title('Sepal Width by Species Type')\n",
    "plt.show()"
   ]
  },
  {
   "cell_type": "code",
   "execution_count": 106,
   "id": "2ae84660",
   "metadata": {},
   "outputs": [
    {
     "data": {
      "image/png": "[encoded data removed]",
      "text/plain": [
       "<Figure size 432x288 with 1 Axes>"
      ]
     },
     "metadata": {
      "needs_background": "light"
     },
     "output_type": "display_data"
    }
   ],
   "source": [
    "sns.barplot(data=train, x='species', y='petal_width')\n",
    "plt.axhline(y=train.petal_width.mean())\n",
    "plt.title('Petal Width by Species Type')\n",
    "plt.show()"
   ]
  },
  {
   "cell_type": "code",
   "execution_count": 107,
   "id": "8f858c6e",
   "metadata": {},
   "outputs": [
    {
     "data": {
      "image/png": "[encoded data removed]",
      "text/plain": [
       "<Figure size 432x288 with 1 Axes>"
      ]
     },
     "metadata": {
      "needs_background": "light"
     },
     "output_type": "display_data"
    }
   ],
   "source": [
    "sns.barplot(data=train, x='species', y='petal_length')\n",
    "plt.axhline(y=train.petal_length.mean())\n",
    "plt.title('Petal Length by Species Type')\n",
    "plt.show()"
   ]
  },
  {
   "cell_type": "markdown",
   "id": "b6ff5fcb",
   "metadata": {},
   "source": [
    "## 3b. For each measurement type, compute the descriptive statistics for each species."
   ]
  },
  {
   "cell_type": "code",
   "execution_count": 108,
   "id": "7fddaadc",
   "metadata": {},
   "outputs": [
    {
     "data": {
      "text/html": [
       "<div>\n",
       "<style scoped>\n",
       "    .dataframe tbody tr th:only-of-type {\n",
       "        vertical-align: middle;\n",
       "    }\n",
       "\n",
       "    .dataframe tbody tr th {\n",
       "        vertical-align: top;\n",
       "    }\n",
       "\n",
       "    .dataframe thead th {\n",
       "        text-align: right;\n",
       "    }\n",
       "</style>\n",
       "<table border=\"1\" class=\"dataframe\">\n",
       "  <thead>\n",
       "    <tr style=\"text-align: right;\">\n",
       "      <th></th>\n",
       "      <th>sepal_length</th>\n",
       "      <th>sepal_width</th>\n",
       "      <th>petal_length</th>\n",
       "      <th>petal_width</th>\n",
       "    </tr>\n",
       "  </thead>\n",
       "  <tbody>\n",
       "    <tr>\n",
       "      <th>count</th>\n",
       "      <td>28.000000</td>\n",
       "      <td>28.000000</td>\n",
       "      <td>28.000000</td>\n",
       "      <td>28.000000</td>\n",
       "    </tr>\n",
       "    <tr>\n",
       "      <th>mean</th>\n",
       "      <td>4.957143</td>\n",
       "      <td>3.385714</td>\n",
       "      <td>1.457143</td>\n",
       "      <td>0.246429</td>\n",
       "    </tr>\n",
       "    <tr>\n",
       "      <th>std</th>\n",
       "      <td>0.362531</td>\n",
       "      <td>0.433516</td>\n",
       "      <td>0.185450</td>\n",
       "      <td>0.129048</td>\n",
       "    </tr>\n",
       "    <tr>\n",
       "      <th>min</th>\n",
       "      <td>4.300000</td>\n",
       "      <td>2.300000</td>\n",
       "      <td>1.000000</td>\n",
       "      <td>0.100000</td>\n",
       "    </tr>\n",
       "    <tr>\n",
       "      <th>25%</th>\n",
       "      <td>4.775000</td>\n",
       "      <td>3.100000</td>\n",
       "      <td>1.400000</td>\n",
       "      <td>0.200000</td>\n",
       "    </tr>\n",
       "    <tr>\n",
       "      <th>50%</th>\n",
       "      <td>5.000000</td>\n",
       "      <td>3.350000</td>\n",
       "      <td>1.500000</td>\n",
       "      <td>0.200000</td>\n",
       "    </tr>\n",
       "    <tr>\n",
       "      <th>75%</th>\n",
       "      <td>5.100000</td>\n",
       "      <td>3.625000</td>\n",
       "      <td>1.600000</td>\n",
       "      <td>0.325000</td>\n",
       "    </tr>\n",
       "    <tr>\n",
       "      <th>max</th>\n",
       "      <td>5.800000</td>\n",
       "      <td>4.400000</td>\n",
       "      <td>1.900000</td>\n",
       "      <td>0.600000</td>\n",
       "    </tr>\n",
       "  </tbody>\n",
       "</table>\n",
       "</div>"
      ],
      "text/plain": [
       "       sepal_length  sepal_width  petal_length  petal_width\n",
       "count     28.000000    28.000000     28.000000    28.000000\n",
       "mean       4.957143     3.385714      1.457143     0.246429\n",
       "std        0.362531     0.433516      0.185450     0.129048\n",
       "min        4.300000     2.300000      1.000000     0.100000\n",
       "25%        4.775000     3.100000      1.400000     0.200000\n",
       "50%        5.000000     3.350000      1.500000     0.200000\n",
       "75%        5.100000     3.625000      1.600000     0.325000\n",
       "max        5.800000     4.400000      1.900000     0.600000"
      ]
     },
     "execution_count": 108,
     "metadata": {},
     "output_type": "execute_result"
    }
   ],
   "source": [
    "train[train.species=='setosa'].describe()"
   ]
  },
  {
   "cell_type": "code",
   "execution_count": 109,
   "id": "3031cb76",
   "metadata": {},
   "outputs": [
    {
     "data": {
      "text/html": [
       "<div>\n",
       "<style scoped>\n",
       "    .dataframe tbody tr th:only-of-type {\n",
       "        vertical-align: middle;\n",
       "    }\n",
       "\n",
       "    .dataframe tbody tr th {\n",
       "        vertical-align: top;\n",
       "    }\n",
       "\n",
       "    .dataframe thead th {\n",
       "        text-align: right;\n",
       "    }\n",
       "</style>\n",
       "<table border=\"1\" class=\"dataframe\">\n",
       "  <thead>\n",
       "    <tr style=\"text-align: right;\">\n",
       "      <th></th>\n",
       "      <th>sepal_length</th>\n",
       "      <th>sepal_width</th>\n",
       "      <th>petal_length</th>\n",
       "      <th>petal_width</th>\n",
       "    </tr>\n",
       "  </thead>\n",
       "  <tbody>\n",
       "    <tr>\n",
       "      <th>count</th>\n",
       "      <td>28.000000</td>\n",
       "      <td>28.000000</td>\n",
       "      <td>28.000000</td>\n",
       "      <td>28.000000</td>\n",
       "    </tr>\n",
       "    <tr>\n",
       "      <th>mean</th>\n",
       "      <td>5.935714</td>\n",
       "      <td>2.800000</td>\n",
       "      <td>4.217857</td>\n",
       "      <td>1.332143</td>\n",
       "    </tr>\n",
       "    <tr>\n",
       "      <th>std</th>\n",
       "      <td>0.512231</td>\n",
       "      <td>0.303071</td>\n",
       "      <td>0.522142</td>\n",
       "      <td>0.205577</td>\n",
       "    </tr>\n",
       "    <tr>\n",
       "      <th>min</th>\n",
       "      <td>5.000000</td>\n",
       "      <td>2.000000</td>\n",
       "      <td>3.000000</td>\n",
       "      <td>1.000000</td>\n",
       "    </tr>\n",
       "    <tr>\n",
       "      <th>25%</th>\n",
       "      <td>5.600000</td>\n",
       "      <td>2.700000</td>\n",
       "      <td>3.900000</td>\n",
       "      <td>1.275000</td>\n",
       "    </tr>\n",
       "    <tr>\n",
       "      <th>50%</th>\n",
       "      <td>6.000000</td>\n",
       "      <td>2.900000</td>\n",
       "      <td>4.300000</td>\n",
       "      <td>1.300000</td>\n",
       "    </tr>\n",
       "    <tr>\n",
       "      <th>75%</th>\n",
       "      <td>6.300000</td>\n",
       "      <td>3.000000</td>\n",
       "      <td>4.600000</td>\n",
       "      <td>1.500000</td>\n",
       "    </tr>\n",
       "    <tr>\n",
       "      <th>max</th>\n",
       "      <td>6.900000</td>\n",
       "      <td>3.400000</td>\n",
       "      <td>5.100000</td>\n",
       "      <td>1.700000</td>\n",
       "    </tr>\n",
       "  </tbody>\n",
       "</table>\n",
       "</div>"
      ],
      "text/plain": [
       "       sepal_length  sepal_width  petal_length  petal_width\n",
       "count     28.000000    28.000000     28.000000    28.000000\n",
       "mean       5.935714     2.800000      4.217857     1.332143\n",
       "std        0.512231     0.303071      0.522142     0.205577\n",
       "min        5.000000     2.000000      3.000000     1.000000\n",
       "25%        5.600000     2.700000      3.900000     1.275000\n",
       "50%        6.000000     2.900000      4.300000     1.300000\n",
       "75%        6.300000     3.000000      4.600000     1.500000\n",
       "max        6.900000     3.400000      5.100000     1.700000"
      ]
     },
     "execution_count": 109,
     "metadata": {},
     "output_type": "execute_result"
    }
   ],
   "source": [
    "train[train.species=='versicolor'].describe()"
   ]
  },
  {
   "cell_type": "code",
   "execution_count": 67,
   "id": "c6eed863",
   "metadata": {},
   "outputs": [
    {
     "data": {
      "text/html": [
       "<div>\n",
       "<style scoped>\n",
       "    .dataframe tbody tr th:only-of-type {\n",
       "        vertical-align: middle;\n",
       "    }\n",
       "\n",
       "    .dataframe tbody tr th {\n",
       "        vertical-align: top;\n",
       "    }\n",
       "\n",
       "    .dataframe thead th {\n",
       "        text-align: right;\n",
       "    }\n",
       "</style>\n",
       "<table border=\"1\" class=\"dataframe\">\n",
       "  <thead>\n",
       "    <tr style=\"text-align: right;\">\n",
       "      <th></th>\n",
       "      <th>sepal_length</th>\n",
       "      <th>sepal_width</th>\n",
       "      <th>petal_length</th>\n",
       "      <th>petal_width</th>\n",
       "    </tr>\n",
       "  </thead>\n",
       "  <tbody>\n",
       "    <tr>\n",
       "      <th>count</th>\n",
       "      <td>28.000000</td>\n",
       "      <td>28.000000</td>\n",
       "      <td>28.000000</td>\n",
       "      <td>28.000000</td>\n",
       "    </tr>\n",
       "    <tr>\n",
       "      <th>mean</th>\n",
       "      <td>6.625000</td>\n",
       "      <td>2.960714</td>\n",
       "      <td>5.535714</td>\n",
       "      <td>2.021429</td>\n",
       "    </tr>\n",
       "    <tr>\n",
       "      <th>std</th>\n",
       "      <td>0.532378</td>\n",
       "      <td>0.318956</td>\n",
       "      <td>0.496815</td>\n",
       "      <td>0.293582</td>\n",
       "    </tr>\n",
       "    <tr>\n",
       "      <th>min</th>\n",
       "      <td>5.800000</td>\n",
       "      <td>2.200000</td>\n",
       "      <td>4.800000</td>\n",
       "      <td>1.500000</td>\n",
       "    </tr>\n",
       "    <tr>\n",
       "      <th>25%</th>\n",
       "      <td>6.300000</td>\n",
       "      <td>2.800000</td>\n",
       "      <td>5.100000</td>\n",
       "      <td>1.800000</td>\n",
       "    </tr>\n",
       "    <tr>\n",
       "      <th>50%</th>\n",
       "      <td>6.450000</td>\n",
       "      <td>3.000000</td>\n",
       "      <td>5.500000</td>\n",
       "      <td>2.000000</td>\n",
       "    </tr>\n",
       "    <tr>\n",
       "      <th>75%</th>\n",
       "      <td>6.900000</td>\n",
       "      <td>3.100000</td>\n",
       "      <td>5.800000</td>\n",
       "      <td>2.300000</td>\n",
       "    </tr>\n",
       "    <tr>\n",
       "      <th>max</th>\n",
       "      <td>7.900000</td>\n",
       "      <td>3.800000</td>\n",
       "      <td>6.900000</td>\n",
       "      <td>2.500000</td>\n",
       "    </tr>\n",
       "  </tbody>\n",
       "</table>\n",
       "</div>"
      ],
      "text/plain": [
       "       sepal_length  sepal_width  petal_length  petal_width\n",
       "count     28.000000    28.000000     28.000000    28.000000\n",
       "mean       6.625000     2.960714      5.535714     2.021429\n",
       "std        0.532378     0.318956      0.496815     0.293582\n",
       "min        5.800000     2.200000      4.800000     1.500000\n",
       "25%        6.300000     2.800000      5.100000     1.800000\n",
       "50%        6.450000     3.000000      5.500000     2.000000\n",
       "75%        6.900000     3.100000      5.800000     2.300000\n",
       "max        7.900000     3.800000      6.900000     2.500000"
      ]
     },
     "execution_count": 67,
     "metadata": {},
     "output_type": "execute_result"
    }
   ],
   "source": [
    "train[train.species=='virginica'].describe()"
   ]
  },
  {
   "cell_type": "markdown",
   "id": "282d73a3",
   "metadata": {},
   "source": [
    "## 3c. For virginica & versicolor: Compare the mean petal_width using the Mann-Whitney test (scipy.stats.mannwhitneyu) to see if there is a significant difference between the two groups. Do the same for the other measurement types."
   ]
  },
  {
   "cell_type": "code",
   "execution_count": 110,
   "id": "1e940399",
   "metadata": {},
   "outputs": [
    {
     "data": {
      "text/plain": [
       "2.0464285714285704"
      ]
     },
     "execution_count": 110,
     "metadata": {},
     "output_type": "execute_result"
    }
   ],
   "source": [
    "#this is mean petal width for virginica\n",
    "train[train.species=='virginica'].petal_width.mean()"
   ]
  },
  {
   "cell_type": "code",
   "execution_count": 111,
   "id": "cee9afd3",
   "metadata": {},
   "outputs": [
    {
     "data": {
      "text/plain": [
       "1.332142857142857"
      ]
     },
     "execution_count": 111,
     "metadata": {},
     "output_type": "execute_result"
    }
   ],
   "source": [
    "#this is mean petal width for versiolor\n",
    "train[train.species=='versicolor'].petal_width.mean()"
   ]
  },
  {
   "cell_type": "code",
   "execution_count": 112,
   "id": "f243afe8",
   "metadata": {},
   "outputs": [],
   "source": [
    "from scipy import stats"
   ]
  },
  {
   "cell_type": "code",
   "execution_count": 113,
   "id": "89513f86",
   "metadata": {},
   "outputs": [
    {
     "data": {
      "text/plain": [
       "(15.5, 2.982389808696449e-10)"
      ]
     },
     "execution_count": 113,
     "metadata": {},
     "output_type": "execute_result"
    }
   ],
   "source": [
    "\n",
    "#MannWhitney for petal width in Virginica vs Versicolor\n",
    "s,p= stats.mannwhitneyu(train[train.species=='virginica'].petal_width, train[train.species=='versicolor'].petal_width)\n",
    "s,p"
   ]
  },
  {
   "cell_type": "code",
   "execution_count": 114,
   "id": "894ef0ec",
   "metadata": {},
   "outputs": [
    {
     "data": {
      "text/plain": [
       "(12.5, 2.5253450566492905e-10)"
      ]
     },
     "execution_count": 114,
     "metadata": {},
     "output_type": "execute_result"
    }
   ],
   "source": [
    "#MannWhitney for petal length in Virginica vs Versicolor\n",
    "s,p= stats.mannwhitneyu(train[train.species=='virginica'].petal_length, train[train.species=='versicolor'].petal_length)\n",
    "s,p"
   ]
  },
  {
   "cell_type": "code",
   "execution_count": 115,
   "id": "519a17a8",
   "metadata": {},
   "outputs": [
    {
     "data": {
      "text/plain": [
       "(250.0, 0.009508012794926874)"
      ]
     },
     "execution_count": 115,
     "metadata": {},
     "output_type": "execute_result"
    }
   ],
   "source": [
    "#MannWhitney for sepal width in Virginica vs Versicolor\n",
    "s,p= stats.mannwhitneyu(train[train.species=='virginica'].sepal_width, train[train.species=='versicolor'].sepal_width)\n",
    "s,p"
   ]
  },
  {
   "cell_type": "code",
   "execution_count": 116,
   "id": "9840885b",
   "metadata": {},
   "outputs": [
    {
     "data": {
      "text/plain": [
       "(132.0, 1.0119920315840642e-05)"
      ]
     },
     "execution_count": 116,
     "metadata": {},
     "output_type": "execute_result"
    }
   ],
   "source": [
    "#MannWhitney for sepal length in Virginica vs Versicolor\n",
    "s,p= stats.mannwhitneyu(train[train.species=='virginica'].sepal_length, train[train.species=='versicolor'].sepal_length)\n",
    "s,p"
   ]
  },
  {
   "cell_type": "markdown",
   "id": "6ffc912a",
   "metadata": {},
   "source": [
    "## 3d. Document takeaways & any actions. "
   ]
  },
  {
   "cell_type": "code",
   "execution_count": 75,
   "id": "c3c74e5c",
   "metadata": {},
   "outputs": [],
   "source": [
    "#I think my data is off"
   ]
  },
  {
   "cell_type": "markdown",
   "id": "8ca28618",
   "metadata": {},
   "source": [
    "# 4. Multivariate Stats\n",
    "\n",
    "4a. Visualize the interaction of each measurement type with the others using a pairplot (or scatter matrix or something similar) and add color to represent species.\n"
   ]
  },
  {
   "cell_type": "code",
   "execution_count": 117,
   "id": "ba060c0e",
   "metadata": {},
   "outputs": [
    {
     "data": {
      "text/plain": [
       "<seaborn.axisgrid.PairGrid at 0x7fb414f1a160>"
      ]
     },
     "execution_count": 117,
     "metadata": {},
     "output_type": "execute_result"
    },
    {
     "data": {
      "image/png": "[encoded data removed]",
      "text/plain": [
       "<Figure size 804.75x720 with 20 Axes>"
      ]
     },
     "metadata": {
      "needs_background": "light"
     },
     "output_type": "display_data"
    }
   ],
   "source": [
    "sns.pairplot(data=train, hue='species')"
   ]
  },
  {
   "cell_type": "markdown",
   "id": "531cfeba",
   "metadata": {},
   "source": [
    "## 4b. Create a swarmplot using a melted dataframe of all your numeric variables. The x-axis should be the variable name, the y-axis the measure. Add another dimension using color to represent species. Document takeaways from this visualization."
   ]
  },
  {
   "cell_type": "code",
   "execution_count": 119,
   "id": "8c307bb5",
   "metadata": {},
   "outputs": [
    {
     "data": {
      "text/html": [
       "<div>\n",
       "<style scoped>\n",
       "    .dataframe tbody tr th:only-of-type {\n",
       "        vertical-align: middle;\n",
       "    }\n",
       "\n",
       "    .dataframe tbody tr th {\n",
       "        vertical-align: top;\n",
       "    }\n",
       "\n",
       "    .dataframe thead th {\n",
       "        text-align: right;\n",
       "    }\n",
       "</style>\n",
       "<table border=\"1\" class=\"dataframe\">\n",
       "  <thead>\n",
       "    <tr style=\"text-align: right;\">\n",
       "      <th></th>\n",
       "      <th>species</th>\n",
       "      <th>variable</th>\n",
       "      <th>value</th>\n",
       "    </tr>\n",
       "  </thead>\n",
       "  <tbody>\n",
       "    <tr>\n",
       "      <th>0</th>\n",
       "      <td>virginica</td>\n",
       "      <td>sepal_length</td>\n",
       "      <td>6.0</td>\n",
       "    </tr>\n",
       "    <tr>\n",
       "      <th>1</th>\n",
       "      <td>setosa</td>\n",
       "      <td>sepal_length</td>\n",
       "      <td>5.0</td>\n",
       "    </tr>\n",
       "    <tr>\n",
       "      <th>2</th>\n",
       "      <td>versicolor</td>\n",
       "      <td>sepal_length</td>\n",
       "      <td>5.7</td>\n",
       "    </tr>\n",
       "    <tr>\n",
       "      <th>3</th>\n",
       "      <td>versicolor</td>\n",
       "      <td>sepal_length</td>\n",
       "      <td>6.4</td>\n",
       "    </tr>\n",
       "    <tr>\n",
       "      <th>4</th>\n",
       "      <td>versicolor</td>\n",
       "      <td>sepal_length</td>\n",
       "      <td>6.2</td>\n",
       "    </tr>\n",
       "  </tbody>\n",
       "</table>\n",
       "</div>"
      ],
      "text/plain": [
       "      species      variable  value\n",
       "0   virginica  sepal_length    6.0\n",
       "1      setosa  sepal_length    5.0\n",
       "2  versicolor  sepal_length    5.7\n",
       "3  versicolor  sepal_length    6.4\n",
       "4  versicolor  sepal_length    6.2"
      ]
     },
     "execution_count": 119,
     "metadata": {},
     "output_type": "execute_result"
    }
   ],
   "source": [
    "melted_train=pd.melt(train, id_vars='species')\n",
    "melted_train.head()"
   ]
  },
  {
   "cell_type": "code",
   "execution_count": 120,
   "id": "eef5cf6d",
   "metadata": {},
   "outputs": [
    {
     "data": {
      "image/png": "[encoded data removed]",
      "text/plain": [
       "<Figure size 576x432 with 1 Axes>"
      ]
     },
     "metadata": {
      "needs_background": "light"
     },
     "output_type": "display_data"
    }
   ],
   "source": [
    "plt.figure(figsize=(8,6))\n",
    "p= sns.swarmplot(\n",
    "x='variable',\n",
    "y='value',\n",
    "hue='species',\n",
    "data=melted_train)"
   ]
  },
  {
   "cell_type": "markdown",
   "id": "6b72dfc6",
   "metadata": {},
   "source": [
    "## 4c. Ask a specific question of the data, such as: is the sepal area signficantly different in virginica compared to setosa? Answer the question through both a plot and using a mann-whitney or t-test. If you use a t-test, be sure assumptions are met (independence, normality, equal variance)."
   ]
  },
  {
   "cell_type": "code",
   "execution_count": 121,
   "id": "0fcefafa",
   "metadata": {},
   "outputs": [],
   "source": [
    "#- is the petal area signficantly different in virginica compared to versicolor\n",
    "#create new column that is train\n",
    "train['petal_area'] = train.petal_length * train.petal_width"
   ]
  },
  {
   "cell_type": "code",
   "execution_count": 122,
   "id": "1aaf27b8",
   "metadata": {},
   "outputs": [
    {
     "data": {
      "text/html": [
       "<div>\n",
       "<style scoped>\n",
       "    .dataframe tbody tr th:only-of-type {\n",
       "        vertical-align: middle;\n",
       "    }\n",
       "\n",
       "    .dataframe tbody tr th {\n",
       "        vertical-align: top;\n",
       "    }\n",
       "\n",
       "    .dataframe thead th {\n",
       "        text-align: right;\n",
       "    }\n",
       "</style>\n",
       "<table border=\"1\" class=\"dataframe\">\n",
       "  <thead>\n",
       "    <tr style=\"text-align: right;\">\n",
       "      <th></th>\n",
       "      <th>sepal_length</th>\n",
       "      <th>sepal_width</th>\n",
       "      <th>petal_length</th>\n",
       "      <th>petal_width</th>\n",
       "      <th>species</th>\n",
       "      <th>petal_area</th>\n",
       "    </tr>\n",
       "  </thead>\n",
       "  <tbody>\n",
       "    <tr>\n",
       "      <th>138</th>\n",
       "      <td>6.0</td>\n",
       "      <td>3.0</td>\n",
       "      <td>4.8</td>\n",
       "      <td>1.8</td>\n",
       "      <td>virginica</td>\n",
       "      <td>8.64</td>\n",
       "    </tr>\n",
       "    <tr>\n",
       "      <th>7</th>\n",
       "      <td>5.0</td>\n",
       "      <td>3.4</td>\n",
       "      <td>1.5</td>\n",
       "      <td>0.2</td>\n",
       "      <td>setosa</td>\n",
       "      <td>0.30</td>\n",
       "    </tr>\n",
       "    <tr>\n",
       "      <th>79</th>\n",
       "      <td>5.7</td>\n",
       "      <td>2.6</td>\n",
       "      <td>3.5</td>\n",
       "      <td>1.0</td>\n",
       "      <td>versicolor</td>\n",
       "      <td>3.50</td>\n",
       "    </tr>\n",
       "    <tr>\n",
       "      <th>74</th>\n",
       "      <td>6.4</td>\n",
       "      <td>2.9</td>\n",
       "      <td>4.3</td>\n",
       "      <td>1.3</td>\n",
       "      <td>versicolor</td>\n",
       "      <td>5.59</td>\n",
       "    </tr>\n",
       "    <tr>\n",
       "      <th>97</th>\n",
       "      <td>6.2</td>\n",
       "      <td>2.9</td>\n",
       "      <td>4.3</td>\n",
       "      <td>1.3</td>\n",
       "      <td>versicolor</td>\n",
       "      <td>5.59</td>\n",
       "    </tr>\n",
       "  </tbody>\n",
       "</table>\n",
       "</div>"
      ],
      "text/plain": [
       "     sepal_length  sepal_width  petal_length  petal_width     species  \\\n",
       "138           6.0          3.0           4.8          1.8   virginica   \n",
       "7             5.0          3.4           1.5          0.2      setosa   \n",
       "79            5.7          2.6           3.5          1.0  versicolor   \n",
       "74            6.4          2.9           4.3          1.3  versicolor   \n",
       "97            6.2          2.9           4.3          1.3  versicolor   \n",
       "\n",
       "     petal_area  \n",
       "138        8.64  \n",
       "7          0.30  \n",
       "79         3.50  \n",
       "74         5.59  \n",
       "97         5.59  "
      ]
     },
     "execution_count": 122,
     "metadata": {},
     "output_type": "execute_result"
    }
   ],
   "source": [
    "train.head()"
   ]
  },
  {
   "cell_type": "code",
   "execution_count": 123,
   "id": "7351e671",
   "metadata": {},
   "outputs": [
    {
     "data": {
      "text/plain": [
       "(5.0, 1.1940082142528982e-10)"
      ]
     },
     "execution_count": 123,
     "metadata": {},
     "output_type": "execute_result"
    }
   ],
   "source": [
    "s,p= stats.mannwhitneyu(train[train.species=='virginica'].petal_area, train[train.species=='versicolor'].petal_area)\n",
    "s,p"
   ]
  },
  {
   "cell_type": "markdown",
   "id": "b7d3d7b4",
   "metadata": {},
   "source": [
    "#### We reject the $H_0$. There is evidence to suggest that petal area between virginica and versicolor are the same"
   ]
  },
  {
   "cell_type": "code",
   "execution_count": 124,
   "id": "07971f17",
   "metadata": {},
   "outputs": [
    {
     "data": {
      "image/png": "[encoded data removed]",
      "text/plain": [
       "<Figure size 444.75x360 with 1 Axes>"
      ]
     },
     "metadata": {
      "needs_background": "light"
     },
     "output_type": "display_data"
    }
   ],
   "source": [
    "sns.relplot(data=train, x='species', y='petal_area', hue='species')\n",
    "plt.show()"
   ]
  },
  {
   "cell_type": "code",
   "execution_count": 125,
   "id": "d240999c",
   "metadata": {},
   "outputs": [
    {
     "data": {
      "image/png": "[encoded data removed]",
      "text/plain": [
       "<Figure size 444.75x360 with 1 Axes>"
      ]
     },
     "metadata": {
      "needs_background": "light"
     },
     "output_type": "display_data"
    }
   ],
   "source": [
    "#same plot as above but excludes setosa.\n",
    "no_setosa = train[train.species!='setosa']\n",
    "sns.relplot(data = no_setosa, x='species', y='petal_area', hue='species')\n",
    "plt.show()"
   ]
  },
  {
   "cell_type": "code",
   "execution_count": null,
   "id": "45e59ec6",
   "metadata": {},
   "outputs": [],
   "source": []
  }
 ],
 "metadata": {
  "kernelspec": {
   "display_name": "Python 3.8.8 64-bit ('base': conda)",
   "language": "python",
   "name": "python388jvsc74a57bd0b64057e63add2b45b1ffc7eab9b09c8889b419c878e2fdf0d08f837f0fc857a7"
  },
  "language_info": {
   "codemirror_mode": {
    "name": "ipython",
    "version": 3
   },
   "file_extension": ".py",
   "mimetype": "text/x-python",
   "name": "python",
   "nbconvert_exporter": "python",
   "pygments_lexer": "ipython3",
   "version": "3.8.8"
  }
 },
 "nbformat": 4,
 "nbformat_minor": 5
}
